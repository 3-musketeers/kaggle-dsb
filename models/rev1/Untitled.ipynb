{
 "cells": [
  {
   "cell_type": "code",
   "execution_count": 13,
   "metadata": {
    "collapsed": true
   },
   "outputs": [],
   "source": [
    "%matplotlib inline\n",
    "import numpy as np\n",
    "import pandas as pd\n",
    "import os\n",
    "import dicom\n",
    "import matplotlib.pyplot as plt\n",
    "\n",
    "from skimage.segmentation import clear_border\n",
    "from skimage.measure import label,regionprops, perimeter\n",
    "from skimage.morphology import ball, disk, dilation, binary_erosion, remove_small_objects, erosion, closing, reconstruction, binary_closing\n",
    "from skimage.filters import roberts, sobel\n",
    "from scipy import ndimage as ndi\n",
    "\n",
    "from glob import glob\n",
    "from tqdm import tqdm"
   ]
  },
  {
   "cell_type": "code",
   "execution_count": null,
   "metadata": {
    "collapsed": true
   },
   "outputs": [],
   "source": [
    "def read_ct_scan(folder_name):\n",
    "        slices = [dicom.read_file(folder_name + filename) for filename in os.listdir(folder_name)]\n",
    "        slices.sort(key=lambda x: int(x.InstanceNumber))\n",
    "        slices = np.stack([s.pixel_array for s in slices])\n",
    "        slices[slices == -2000] = 0\n",
    "        return slices\n",
    "\n",
    "def plot_ct_scan(scan):\n",
    "    f, plots = plt.subplots(int(scan.shape[0] / 20) + 1, 4, figsize=(25, 25))\n",
    "    for i in range(0, scan.shape[0], 5):\n",
    "        plots[int(i / 20), int((i % 20) / 5)].axis('off')\n",
    "        plots[int(i / 20), int((i % 20) / 5)].imshow(scan[i], cmap=plt.cm.bone) "
   ]
  },
  {
   "cell_type": "code",
   "execution_count": null,
   "metadata": {
    "collapsed": true
   },
   "outputs": [],
   "source": [
    "def get_segmented_lungs(im, plot=False):\n",
    "    binary = im < 604\n",
    "    cleared = clear_border(binary)\n",
    "    label_image = label(cleared)\n",
    "    areas = [r.area for r in regionprops(label_image)]\n",
    "    areas.sort()\n",
    "    if len(areas) > 2:\n",
    "        for region in regionprops(label_image):\n",
    "            if region.area < areas[-2]:\n",
    "                for coordinates in region.coords:                \n",
    "                       label_image[coordinates[0], coordinates[1]] = 0\n",
    "    binary = label_image > 0\n",
    "    selem = disk(2)\n",
    "    binary = binary_erosion(binary, selem)\n",
    "    selem = disk(10)\n",
    "    binary = binary_closing(binary, selem)\n",
    "    edges = roberts(binary)\n",
    "    binary = ndi.binary_fill_holes(edges)\n",
    "    get_high_vals = binary == 0\n",
    "    im[get_high_vals] = 0\n",
    "    return im\n",
    "\n",
    "def segment_lung_from_ct_scan(ct_scan):\n",
    "    return np.asarray([get_segmented_lungs(slice) for slice in ct_scan])\n",
    "\n",
    "# reduce regions of interest\n",
    "def reduce_regions(ct_scan): \n",
    "    ct_scan[ct_scan < 604] = 0\n",
    "    return ct_scan"
   ]
  },
  {
   "cell_type": "code",
   "execution_count": null,
   "metadata": {
    "collapsed": true
   },
   "outputs": [],
   "source": [
    "def load_itk(filename):\n",
    "    itkimage = sitk.ReadImage(filename)\n",
    "    ct_scan = sitk.GetArrayFromImage(itkimage)\n",
    "    origin = np.array(list(reversed(itkimage.GetOrigin())))\n",
    "    spacing = np.array(list(reversed(itkimage.GetSpacing())))\n",
    "    return ct_scan, origin, spacing\n",
    "\n",
    "def world_2_voxel(world_coordinates, origin, spacing):\n",
    "    stretched_voxel_coordinates = np.absolute(world_coordinates - origin)\n",
    "    voxel_coordinates = stretched_voxel_coordinates / spacing\n",
    "    return voxel_coordinates\n",
    "\n",
    "def voxel_2_world(voxel_coordinates, origin, spacing):\n",
    "    stretched_voxel_coordinates = voxel_coordinates * spacing\n",
    "    world_coordinates = stretched_voxel_coordinates + origin\n",
    "    return world_coordinates"
   ]
  },
  {
   "cell_type": "code",
   "execution_count": null,
   "metadata": {
    "collapsed": true
   },
   "outputs": [],
   "source": [
    "def seq(start, stop, step=1):\n",
    "    n = int(round((stop - start)/float(step)))\n",
    "    if n > 1:\n",
    "        return([start + step*i for i in range(n+1)])\n",
    "    else:\n",
    "        return([])\n",
    "\n",
    "def draw_circles(image,cands,origin,spacing):\n",
    "    #make empty matrix, which will be filled with the mask\n",
    "    RESIZE_SPACING = [1, 1, 1]\n",
    "    image_mask = np.zeros(image.shape)\n",
    "\n",
    "    #run over all the nodules in the lungs\n",
    "    for ca in cands.values:\n",
    "        #get middel x-,y-, and z-worldcoordinate of the nodule\n",
    "        radius = np.ceil(ca[4])/2\n",
    "        coord_x = ca[1]\n",
    "        coord_y = ca[2]\n",
    "        coord_z = ca[3]\n",
    "        image_coord = np.array((coord_z,coord_y,coord_x))\n",
    "\n",
    "        #determine voxel coordinate given the worldcoordinate\n",
    "        image_coord = world_2_voxel(image_coord,origin,spacing)\n",
    "\n",
    "        #determine the range of the nodule\n",
    "        noduleRange = seq(-radius, radius, RESIZE_SPACING[0])\n",
    "\n",
    "        #create the mask\n",
    "        for x in noduleRange:\n",
    "            for y in noduleRange:\n",
    "                for z in noduleRange:\n",
    "                    coords = world_2_voxel(np.array((coord_z+z,coord_y+y,coord_x+x)),origin,spacing)\n",
    "                    if (np.linalg.norm(image_coord-coords) * RESIZE_SPACING[0]) < radius:\n",
    "                        image_mask[np.round(coords[0]),np.round(coords[1]),np.round(coords[2])] = int(1)\n",
    "    \n",
    "    return image_mask\n",
    "\n",
    "def create_nodule_mask(imagePath, cands, fcount, subsetnum):\n",
    "    #if os.path.isfile(imagePath.replace('original',SAVE_FOLDER_image)) == False:\n",
    "    img, origin, spacing = load_itk(imagePath)\n",
    "\n",
    "    #calculate resize factor\n",
    "    RESIZE_SPACING = [1, 1, 1]\n",
    "    resize_factor = spacing / RESIZE_SPACING\n",
    "    new_real_shape = img.shape * resize_factor\n",
    "    new_shape = np.round(new_real_shape)\n",
    "    real_resize = new_shape / img.shape\n",
    "    new_spacing = spacing / real_resize\n",
    "    \n",
    "    #resize image\n",
    "    lung_img = scipy.ndimage.interpolation.zoom(img, real_resize)\n",
    "    \n",
    "    # Segment the lung structure\n",
    "    lung_img = lung_img + 1024\n",
    "    lung_mask = segment_lung_from_ct_scan(lung_img)\n",
    "    lung_img = lung_img - 1024\n",
    "\n",
    "    #create nodule mask\n",
    "    nodule_mask = draw_circles(lung_img,cands,origin,new_spacing)\n",
    "\n",
    "    lung_img_512, lung_mask_512, nodule_mask_512 = np.zeros((lung_img.shape[0], 512, 512)), np.zeros((lung_mask.shape[0], 512, 512)), np.zeros((nodule_mask.shape[0], 512, 512))\n",
    "\n",
    "    original_shape = lung_img.shape\t\n",
    "    for z in range(lung_img.shape[0]):\n",
    "        offset = (512 - original_shape[1])\n",
    "        upper_offset = np.round(offset/2)\n",
    "        lower_offset = offset - upper_offset\n",
    "\n",
    "        new_origin = voxel_2_world([-upper_offset,-lower_offset,0],origin,new_spacing)\n",
    "\n",
    "        lung_img_512[z, upper_offset:-lower_offset,upper_offset:-lower_offset] = lung_img[z,:,:]\n",
    "        lung_mask_512[z, upper_offset:-lower_offset,upper_offset:-lower_offset] = lung_mask[z,:,:]\n",
    "        nodule_mask_512[z, upper_offset:-lower_offset,upper_offset:-lower_offset] = nodule_mask[z,:,:]\n",
    "\n",
    "    # save images.\n",
    "    np.save(os.path.join(OUTPUT_PATH,\"lung_img_%04d_%04d.npz\" % (subsetnum, fcount)),lung_img_512)\n",
    "    np.save(os.path.join(OUTPUT_PATH,\"lung_mask_%04d_%04d.npz\" % (subsetnum, fcount)),lung_mask_512)\n",
    "    np.save(os.path.join(OUTPUT_PATH,\"nodule_mask_%04d_%04d.npz\" % (subsetnum, fcount)),nodule_mask_512)"
   ]
  },
  {
   "cell_type": "code",
   "execution_count": null,
   "metadata": {
    "collapsed": true
   },
   "outputs": [],
   "source": [
    "# Helper function to get rows in data frame associated with each file\n",
    "def get_filename(file_list, case):\n",
    "    for f in file_list:\n",
    "        if case in f:\n",
    "            return(f)\n",
    "\n",
    "# Getting list of image files\n",
    "LUNA_DATA_PATH = '../../../data/luna16/'\n",
    "OUTPUT_PATH = '../../../output/rev1'\n",
    "\n",
    "# create a list of subsets, which are lists of file paths\n",
    "FILE_LIST = []\n",
    "for i in range(0, 10):\n",
    "    LUNA_SUBSET_PATH = LUNA_DATA_PATH + 'subset'+str(i)+'/'\n",
    "    FILE_LIST.append(glob(LUNA_SUBSET_PATH + '*.mhd'))\n",
    "\n",
    "\n",
    "for subsetnum, subsetlist in enumerate(FILE_LIST):\n",
    "    # The locations of the nodes\n",
    "    df_node = pd.read_csv(LUNA_DATA_PATH + \"annotations.csv\")\n",
    "    df_node[\"file\"] = df_node[\"seriesuid\"].map(lambda file_name: get_filename(subsetlist, file_name))\n",
    "    df_node = df_node.dropna()\n",
    "\n",
    "    # Looping over the image files\n",
    "    for fcount, img_file in enumerate(tqdm(subsetlist)):\n",
    "        mini_df = df_node[df_node[\"file\"]==img_file] # get all nodules associate with file\n",
    "        if mini_df.shape[0]>0: # some files may not have a nodule--skipping those\n",
    "            # feeding mini_df to the function will work for \"cands\"\n",
    "            create_nodule_mask(img_file, mini_df, fcount, subsetnum)"
   ]
  },
  {
   "cell_type": "markdown",
   "metadata": {},
   "source": [
    "1. Read 3D CT scan (load_itk)\n",
    "2. segment lungs\n",
    "3. generate binary mask of nodule regions (create_nodule_mask)"
   ]
  },
  {
   "cell_type": "code",
   "execution_count": null,
   "metadata": {
    "collapsed": true
   },
   "outputs": [],
   "source": []
  }
 ],
 "metadata": {
  "kernelspec": {
   "display_name": "Python 3",
   "language": "python",
   "name": "python3"
  },
  "language_info": {
   "codemirror_mode": {
    "name": "ipython",
    "version": 3
   },
   "file_extension": ".py",
   "mimetype": "text/x-python",
   "name": "python",
   "nbconvert_exporter": "python",
   "pygments_lexer": "ipython3",
   "version": "3.5.2"
  }
 },
 "nbformat": 4,
 "nbformat_minor": 2
}

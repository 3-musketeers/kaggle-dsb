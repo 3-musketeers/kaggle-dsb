{
 "cells": [
  {
   "cell_type": "markdown",
   "metadata": {},
   "source": [
    "# [U-Net Segmentation Approach to Cancer Diagnosis](https://www.kaggle.com/c/data-science-bowl-2017#tutorial)\n",
    "*approach to predicting whether a CT scan is of a patient who either has or will develop cancer within the next 12 months or not*\n",
    "\n",
    "General Approach:\n",
    "1. train a network to segment out potentially cancerous nodules\n",
    "2. use the characteristics of that segmentation to make predictions about the diagnosis of the scanned patient within a 12 month time frame"
   ]
  },
  {
   "cell_type": "markdown",
   "metadata": {},
   "source": [
    "# Downloading Instructions\n",
    "1. **pydicom** (dicom): type in anaconda command prompt: `pip install pydicom` ([reference](http://pydicom.readthedocs.io/en/latest/getting_started.html))\n",
    "2. **SimpleITK**: type in anaconda command prompt: `conda install -c https://conda.anaconda.org/simpleitk SimpleITK` ([reference](https://itk.org/Wiki/SimpleITK/GettingStarted))\n",
    "3. **xgboost**: type in anaconda command prompt: `pip install xgboost` ([reference](http://machinelearningmastery.com/gentle-introduction-xgboost-applied-machine-learning/), [long version reference](https://www.ibm.com/developerworks/community/blogs/jfp/entry/Installing_XGBoost_For_Anaconda_on_Windows?lang=en))\n",
    "4. **tqdm**: type in anaconda command prompt: `pip install tqdm` ([reference](https://pypi.python.org/pypi/tqdm#usage))\n",
    "\n",
    "## Installing Keras, Tensorflow, CuDNN, Cuda Tool Kit\n",
    "*how to install keras, and the gpu supported version of tensorflow, as well as the entire GPU computing library*\n",
    "\n",
    "**Follow the instructions [here](https://github.com/3-musketeers/kaggle-dsb/blob/master/pipeline/build-simple-model/rough-draft/model_dependency_setup.md)**\n",
    "\n",
    "## Downloading Data\n",
    "**Follow the instructions [here](https://github.com/3-musketeers/kaggle-dsb/blob/master/pipeline/build-simple-model/rough-draft/model_data_setup.md)**"
   ]
  },
  {
   "cell_type": "markdown",
   "metadata": {},
   "source": [
    "# Dependency Descriptions\n",
    "1. **numpy**: an extension to the Python programming language, adding support for large, multi-dimensional arrays and matrices, along with a large library of high-level mathematical functions to operate on these arrays\n",
    "2. **scikit-image** (skimage): collection of algorithms for image processing\n",
    "3. **scikit-learn**: simple and efficient tools for data mining and data analysis\n",
    "4. **keras** (tensorflow backend): high-level neural networks library, written in Python (runs on top of TensorFlow)\n",
    "5. **matplotlib**: a Python 2D plotting library which produces publication quality figures in a variety of hardcopy formats and interactive environments across platforms\n",
    "6. **pydicom** (dicom): pydicom is a pure python package for working with DICOM files such as medical images, reports, and radiotherapy objects\n",
    "7. **SimpleITK**: an open-source, cross-platform system that provides developers with an extensive suite of software tools for image analysis \n",
    "8. **pandas**: providing high-performance, easy-to-use data structures and data analysis tools for the Python programming language\n",
    "9. **glob**: a module that finds all the pathnames matching a specified pattern according to the rules used by the Unix shell (results returned in arbitrary order)\n",
    "10. **csv**: a module that implements classes to read and write tabular data in CSV format\n",
    "11. **os**: a module that provides a portable way of using operating system dependent functionality\n",
    "12. **xgboost**: a library designed and optimized for boosting trees algorithms\n",
    "13. **pickle**: standard mechanism for object serialization\n",
    "14. **tqdm**: instantly make your loops show a smart progress meter"
   ]
  },
  {
   "cell_type": "markdown",
   "metadata": {},
   "source": [
    "## Details:\n",
    "1. U-Net style convolutional network: to identify regions with nodules (U-net was designed for segmenting neuronal structures)\n",
    "2. appearance on nodules within the CT scan: indicate the possibility of cancer\n",
    "3. Lung Nodule Analysis 2016 (LUNA2016):\n",
    "   1. provides training examples with marked nodules in order train the U Net to find these nodules (CT images with annotated nodule locations)\n",
    "   2. use the LUNA data set to generate an appropriate training set for our U-Net\n",
    "   3. use these examples to train our supervised segmenter"
   ]
  },
  {
   "cell_type": "markdown",
   "metadata": {},
   "source": [
    "# Construct Training Set From LUNA16\n",
    "*goal:*\n",
    "\n",
    "Process:\n",
    "1. use the nodule locations as given in annotations.csv and extract three transverse slices that contain the largest nodule from each patient scan\n",
    "2. masks will be created for those slices based on the nodule dimensions given in annotations.csv\n",
    "3. output of this file will be two files for each patient scan: a set of images and a set of corresponding nodule masks\n",
    "\n",
    "\n",
    "* import tools\n",
    "* find largest nodule in the patient scan\n",
    "* use df_node (a pandas dataframe): to keep track of the case numbers and the node information (as there might be multiple nodule listings for some patients in annotations.csv)\n",
    "* node information is an (x,y,z) coordinate in mm using a coordinate system defined in the .mhd file"
   ]
  },
  {
   "cell_type": "code",
   "execution_count": 2,
   "metadata": {
    "collapsed": true
   },
   "outputs": [],
   "source": [
    "from __future__ import print_function, division\n",
    "import SimpleITK as sitk\n",
    "import numpy as np\n",
    "import csv\n",
    "import os\n",
    "from glob import glob\n",
    "import pandas as pd\n",
    "try:\n",
    "    from tqdm import tqdm # long waits are not fun\n",
    "except:\n",
    "    print('TQDM does make much nicer wait bars...')\n",
    "    tqdm = lambda x: x"
   ]
  },
  {
   "cell_type": "code",
   "execution_count": 2,
   "metadata": {
    "collapsed": false
   },
   "outputs": [
    {
     "name": "stderr",
     "output_type": "stream",
     "text": [
      "100%|█████████████████████████████████████████████████████████████████| 10000000/10000000 [00:03<00:00, 2862266.25it/s]\n"
     ]
    }
   ],
   "source": [
    "# will tqdm slow down the program significantly? if not then use it\n",
    "for i in tqdm(range(10000000)):\n",
    "    pass"
   ]
  },
  {
   "cell_type": "code",
   "execution_count": 3,
   "metadata": {
    "collapsed": false,
    "scrolled": false
   },
   "outputs": [],
   "source": [
    "# path constants\n",
    "LUNA_DATA_PATH = '../../../../data/luna16/'\n",
    "LUNA_SUBSET_PATH = LUNA_DATA_PATH + 'subset0/'\n",
    "OUTPUT_PATH = '../../../../output/build-simple-model'\n",
    "FILE_LIST = glob(LUNA_SUBSET_PATH + \"*.mhd\") # get all the mhd image files\n",
    "\n",
    "# Helper function to get rows in data frame associated with each file\n",
    "def get_filename(file_list, case):\n",
    "    for f in file_list:\n",
    "        if case in f:\n",
    "            return(f)\n",
    "\n",
    "# The locations of the nodes\n",
    "df_node = pd.read_csv(LUNA_DATA_PATH + \"annotations.csv\")\n",
    "df_node[\"file\"] = df_node[\"seriesuid\"].map(lambda file_name: get_filename(FILE_LIST, file_name)) # for every row, save file name to the 'file' column of the row\n",
    "df_node = df_node.dropna() # if the seriesuid is not found in this subset, drop all the rows that have na as values for 'file' column"
   ]
  },
  {
   "cell_type": "code",
   "execution_count": 4,
   "metadata": {
    "collapsed": false
   },
   "outputs": [
    {
     "name": "stdout",
     "output_type": "stream",
     "text": [
      "Image (000002AD21F6DAA0)\n",
      "  RTTI typeinfo:   class itk::Image<short,3>\n",
      "  Reference Count: 1\n",
      "  Modified Time: 1060\n",
      "  Debug: Off\n",
      "  Object Name: \n",
      "  Observers: \n",
      "    none\n",
      "  Source: (none)\n",
      "  Source output name: (none)\n",
      "  Release Data: Off\n",
      "  Data Released: False\n",
      "  Global Release Data: Off\n",
      "  PipelineMTime: 1035\n",
      "  UpdateMTime: 1059\n",
      "  RealTimeStamp: 0 seconds \n",
      "  LargestPossibleRegion: \n",
      "    Dimension: 3\n",
      "    Index: [0, 0, 0]\n",
      "    Size: [512, 512, 161]\n",
      "  BufferedRegion: \n",
      "    Dimension: 3\n",
      "    Index: [0, 0, 0]\n",
      "    Size: [512, 512, 161]\n",
      "  RequestedRegion: \n",
      "    Dimension: 3\n",
      "    Index: [0, 0, 0]\n",
      "    Size: [512, 512, 161]\n",
      "  Spacing: [0.548828, 0.548828, 1.25]\n",
      "  Origin: [-187.7, -108.3, -194]\n",
      "  Direction: \n",
      "1 0 0\n",
      "0 1 0\n",
      "0 0 1\n",
      "\n",
      "  IndexToPointMatrix: \n",
      "0.548828 0 0\n",
      "0 0.548828 0\n",
      "0 0 1.25\n",
      "\n",
      "  PointToIndexMatrix: \n",
      "1.82206 0 0\n",
      "0 1.82206 0\n",
      "0 0 0.8\n",
      "\n",
      "  Inverse Direction: \n",
      "1 0 0\n",
      "0 1 0\n",
      "0 0 1\n",
      "\n",
      "  PixelContainer: \n",
      "    ImportImageContainer (000002AD2090BA70)\n",
      "      RTTI typeinfo:   class itk::ImportImageContainer<unsigned __int64,short>\n",
      "      Reference Count: 1\n",
      "      Modified Time: 1056\n",
      "      Debug: Off\n",
      "      Object Name: \n",
      "      Observers: \n",
      "        none\n",
      "      Pointer: 000002AD2341A040\n",
      "      Container manages memory: true\n",
      "      Size: 42205184\n",
      "      Capacity: 42205184\n",
      "\n"
     ]
    }
   ],
   "source": [
    "img_file = FILE_LIST[2] # using only file_list[2] as example in rest of code\n",
    "itk_img = sitk.ReadImage(img_file) # using sitk to read a .mhd image\n",
    "print(itk_img)"
   ]
  },
  {
   "cell_type": "code",
   "execution_count": 5,
   "metadata": {
    "collapsed": false
   },
   "outputs": [
    {
     "name": "stdout",
     "output_type": "stream",
     "text": [
      "[[[-3024 -3024 -3024 ..., -3024 -3024 -3024]\n",
      "  [-3024 -3024 -3024 ..., -3024 -3024 -3024]\n",
      "  [-3024 -3024 -3024 ..., -3024 -3024 -3024]\n",
      "  ..., \n",
      "  [-3024 -3024 -3024 ..., -3024 -3024 -3024]\n",
      "  [-3024 -3024 -3024 ..., -3024 -3024 -3024]\n",
      "  [-3024 -3024 -3024 ..., -3024 -3024 -3024]]\n",
      "\n",
      " [[-3024 -3024 -3024 ..., -3024 -3024 -3024]\n",
      "  [-3024 -3024 -3024 ..., -3024 -3024 -3024]\n",
      "  [-3024 -3024 -3024 ..., -3024 -3024 -3024]\n",
      "  ..., \n",
      "  [-3024 -3024 -3024 ..., -3024 -3024 -3024]\n",
      "  [-3024 -3024 -3024 ..., -3024 -3024 -3024]\n",
      "  [-3024 -3024 -3024 ..., -3024 -3024 -3024]]\n",
      "\n",
      " [[-3024 -3024 -3024 ..., -3024 -3024 -3024]\n",
      "  [-3024 -3024 -3024 ..., -3024 -3024 -3024]\n",
      "  [-3024 -3024 -3024 ..., -3024 -3024 -3024]\n",
      "  ..., \n",
      "  [-3024 -3024 -3024 ..., -3024 -3024 -3024]\n",
      "  [-3024 -3024 -3024 ..., -3024 -3024 -3024]\n",
      "  [-3024 -3024 -3024 ..., -3024 -3024 -3024]]\n",
      "\n",
      " ..., \n",
      " [[-3024 -3024 -3024 ..., -3024 -3024 -3024]\n",
      "  [-3024 -3024 -3024 ..., -3024 -3024 -3024]\n",
      "  [-3024 -3024 -3024 ..., -3024 -3024 -3024]\n",
      "  ..., \n",
      "  [-3024 -3024 -3024 ..., -3024 -3024 -3024]\n",
      "  [-3024 -3024 -3024 ..., -3024 -3024 -3024]\n",
      "  [-3024 -3024 -3024 ..., -3024 -3024 -3024]]\n",
      "\n",
      " [[-3024 -3024 -3024 ..., -3024 -3024 -3024]\n",
      "  [-3024 -3024 -3024 ..., -3024 -3024 -3024]\n",
      "  [-3024 -3024 -3024 ..., -3024 -3024 -3024]\n",
      "  ..., \n",
      "  [-3024 -3024 -3024 ..., -3024 -3024 -3024]\n",
      "  [-3024 -3024 -3024 ..., -3024 -3024 -3024]\n",
      "  [-3024 -3024 -3024 ..., -3024 -3024 -3024]]\n",
      "\n",
      " [[-3024 -3024 -3024 ..., -3024 -3024 -3024]\n",
      "  [-3024 -3024 -3024 ..., -3024 -3024 -3024]\n",
      "  [-3024 -3024 -3024 ..., -3024 -3024 -3024]\n",
      "  ..., \n",
      "  [-3024 -3024 -3024 ..., -3024 -3024 -3024]\n",
      "  [-3024 -3024 -3024 ..., -3024 -3024 -3024]\n",
      "  [-3024 -3024 -3024 ..., -3024 -3024 -3024]]]\n"
     ]
    }
   ],
   "source": [
    "# get the associated 3d pixel array for the .mhd image\n",
    "img_array = sitk.GetArrayFromImage(itk_img) # indexes are z,y,x (notice the ordering)\n",
    "print(img_array)"
   ]
  },
  {
   "cell_type": "code",
   "execution_count": 6,
   "metadata": {
    "collapsed": false
   },
   "outputs": [
    {
     "name": "stdout",
     "output_type": "stream",
     "text": [
      "161\n",
      "512\n",
      "512\n",
      "[-187.699997 -108.300003 -194.      ]\n",
      "[ 0.54882801  0.54882801  1.25      ]\n"
     ]
    }
   ],
   "source": [
    "num_z, height, width = img_array.shape\n",
    "origin = np.array(itk_img.GetOrigin())      # x,y,z Origin in world coordinates (mm)\n",
    "spacing = np.array(itk_img.GetSpacing())    # spacing of voxels in world coordinates (mm)\n",
    "print(num_z)\n",
    "print(height)\n",
    "print(width)\n",
    "print(origin)\n",
    "print(spacing)"
   ]
  },
  {
   "cell_type": "code",
   "execution_count": 7,
   "metadata": {
    "collapsed": false
   },
   "outputs": [
    {
     "name": "stdout",
     "output_type": "stream",
     "text": [
      "                                            seriesuid     coordX     coordY  \\\n",
      "25  1.3.6.1.4.1.14519.5.2.1.6279.6001.109002525524...  46.188539  48.402806   \n",
      "26  1.3.6.1.4.1.14519.5.2.1.6279.6001.109002525524...  36.392044  76.771663   \n",
      "\n",
      "        coordZ  diameter_mm                                               file  \n",
      "25 -108.578632    13.596471  ../../../../data/luna16/subset0\\1.3.6.1.4.1.14...  \n",
      "26 -123.321911     4.343200  ../../../../data/luna16/subset0\\1.3.6.1.4.1.14...  \n",
      "\n",
      "\n",
      "25\n",
      "seriesuid      1.3.6.1.4.1.14519.5.2.1.6279.6001.109002525524...\n",
      "coordX                                                   46.1885\n",
      "coordY                                                   48.4028\n",
      "coordZ                                                  -108.579\n",
      "diameter_mm                                              13.5965\n",
      "file           ../../../../data/luna16/subset0\\1.3.6.1.4.1.14...\n",
      "Name: 25, dtype: object\n",
      "26\n",
      "seriesuid      1.3.6.1.4.1.14519.5.2.1.6279.6001.109002525524...\n",
      "coordX                                                    36.392\n",
      "coordY                                                   76.7717\n",
      "coordZ                                                  -123.322\n",
      "diameter_mm                                               4.3432\n",
      "file           ../../../../data/luna16/subset0\\1.3.6.1.4.1.14...\n",
      "Name: 26, dtype: object\n"
     ]
    }
   ],
   "source": [
    "mini_df = df_node[df_node[\"file\"]==FILE_LIST[2]] # get all nodules associate with file\n",
    "print(mini_df)\n",
    "print('\\n')\n",
    "for node_idx, cur_row in mini_df.iterrows(): # .iterrows() generates (indices, row)\n",
    "    print(node_idx)\n",
    "    print(cur_row)"
   ]
  },
  {
   "cell_type": "code",
   "execution_count": 8,
   "metadata": {
    "collapsed": false
   },
   "outputs": [
    {
     "name": "stdout",
     "output_type": "stream",
     "text": [
      "46.18853869\n",
      "48.40280596\n",
      "-108.5786324\n",
      "13.59647134\n",
      "[[[ 0.  0.  0. ...,  0.  0.  0.]\n",
      "  [ 0.  0.  0. ...,  0.  0.  0.]\n",
      "  [ 0.  0.  0. ...,  0.  0.  0.]\n",
      "  ..., \n",
      "  [ 0.  0.  0. ...,  0.  0.  0.]\n",
      "  [ 0.  0.  0. ...,  0.  0.  0.]\n",
      "  [ 0.  0.  0. ...,  0.  0.  0.]]\n",
      "\n",
      " [[ 0.  0.  0. ...,  0.  0.  0.]\n",
      "  [ 0.  0.  0. ...,  0.  0.  0.]\n",
      "  [ 0.  0.  0. ...,  0.  0.  0.]\n",
      "  ..., \n",
      "  [ 0.  0.  0. ...,  0.  0.  0.]\n",
      "  [ 0.  0.  0. ...,  0.  0.  0.]\n",
      "  [ 0.  0.  0. ...,  0.  0.  0.]]\n",
      "\n",
      " [[ 0.  0.  0. ...,  0.  0.  0.]\n",
      "  [ 0.  0.  0. ...,  0.  0.  0.]\n",
      "  [ 0.  0.  0. ...,  0.  0.  0.]\n",
      "  ..., \n",
      "  [ 0.  0.  0. ...,  0.  0.  0.]\n",
      "  [ 0.  0.  0. ...,  0.  0.  0.]\n",
      "  [ 0.  0.  0. ...,  0.  0.  0.]]]\n",
      "[[[ 80   1 100 ...,   1   0   0]\n",
      "  [ 84   1   0 ...,   3   0   0]\n",
      "  [212   3   0 ...,   6   0   0]\n",
      "  ..., \n",
      "  [  0   0   0 ...,   0   0   0]\n",
      "  [  0   0   0 ...,   0   0   0]\n",
      "  [  0   0   0 ...,   0   0   0]]\n",
      "\n",
      " [[  0   0   0 ...,   0   0   0]\n",
      "  [  0   0   0 ...,   0   0   0]\n",
      "  [  0   0   0 ...,   0   0   0]\n",
      "  ..., \n",
      "  [  0   0   0 ...,   0   0   0]\n",
      "  [  0   0   0 ...,   0   0   0]\n",
      "  [  0   0   0 ...,   0   0   0]]\n",
      "\n",
      " [[  0   0   0 ...,   0   0   0]\n",
      "  [  0   0   0 ...,   0   0   0]\n",
      "  [  0   0   0 ...,   0   0   0]\n",
      "  ..., \n",
      "  [  0   0   0 ...,   0   0   0]\n",
      "  [  0   0   0 ...,   0   0   0]\n",
      "  [  0   0   0 ...,   0   0   0]]]\n",
      "[  46.18853869   48.40280596 -108.5786324 ]\n",
      "[ 426.  286.   68.]\n"
     ]
    }
   ],
   "source": [
    "for node_idx, cur_row in mini_df.iterrows():\n",
    "    node_x = cur_row[\"coordX\"]\n",
    "    node_y = cur_row[\"coordY\"]\n",
    "    node_z = cur_row[\"coordZ\"]\n",
    "    diam = cur_row[\"diameter_mm\"]\n",
    "    print(node_x)\n",
    "    print(node_y)\n",
    "    print(node_z)\n",
    "    print(diam)\n",
    "    \n",
    "    # just keep 3 slices\n",
    "    imgs = np.ndarray([3,height,width],dtype=np.float32) # merely defining the final product\n",
    "    masks = np.ndarray([3,height,width],dtype=np.uint8) # note the random array (it will be overwritten)\n",
    "    center = np.array([node_x, node_y, node_z])   # nodule center\n",
    "    v_center = np.rint((center-origin)/spacing)  # nodule center in voxel space (still x,y,z ordering)\n",
    "    print(imgs)\n",
    "    print(masks)\n",
    "    print(center)\n",
    "    print(v_center)\n",
    "    break # only do it for the first node"
   ]
  },
  {
   "cell_type": "code",
   "execution_count": 9,
   "metadata": {
    "collapsed": false
   },
   "outputs": [
    {
     "name": "stdout",
     "output_type": "stream",
     "text": [
      "68.0\n",
      "67.0\n",
      "70.0\n",
      "0\n",
      "67\n",
      "1\n",
      "68\n",
      "2\n",
      "69\n"
     ]
    }
   ],
   "source": [
    "print(v_center[2]) # the slice at which the center of the nodule is located\n",
    "print(v_center[2]-1) # one slice below\n",
    "# center will never be at the bottom so a clip is not needed\n",
    "print(v_center[2]+2) # two slices above\n",
    "# clip needed because you could go over the total number of slices\n",
    "for i, i_z in enumerate(np.arange(int(v_center[2])-1,\n",
    "                             int(v_center[2])+2).clip(0, num_z-1)): # clip prevents going out of bounds in Z\n",
    "    print(i)\n",
    "    print(i_z)"
   ]
  },
  {
   "cell_type": "code",
   "execution_count": 10,
   "metadata": {
    "collapsed": false
   },
   "outputs": [
    {
     "name": "stdout",
     "output_type": "stream",
     "text": [
      "[  46.18853869   48.40280596 -108.5786324 ]\n",
      "13.59647134\n",
      "-110.25\n",
      "512\n",
      "512\n",
      "[ 0.54882801  0.54882801  1.25      ]\n",
      "[-187.699997 -108.300003 -194.      ]\n"
     ]
    }
   ],
   "source": [
    "# mask = make_mask(center, diam, i_z*spacing[2]+origin[2], width, height, spacing, origin)\n",
    "i = 0\n",
    "i_z = 67\n",
    "print(center) # center comes in real world coordinates, using spacing and origin will convert it to voxel (in terms of the image)\n",
    "print(diam)\n",
    "print(i_z*spacing[2]+origin[2])\n",
    "print(width)\n",
    "print(height)\n",
    "print(spacing)\n",
    "print(origin)"
   ]
  },
  {
   "cell_type": "code",
   "execution_count": 11,
   "metadata": {
    "collapsed": true
   },
   "outputs": [],
   "source": [
    "def make_mask(center,diam,z,width,height,spacing,origin):\n",
    "    '''\n",
    "Center : centers of circles px -- list of coordinates x,y,z\n",
    "diam : diameters of circles px -- diameter\n",
    "widthXheight : pixel dim of image\n",
    "spacing = mm/px conversion rate np array x,y,z\n",
    "origin = x,y,z mm np.array\n",
    "z = z position of slice in world coordinates mm\n",
    "    '''\n",
    "    mask = np.zeros([height,width]) # 0's everywhere except nodule swapping x,y to match img\n",
    "    #convert to nodule space from world coordinates\n",
    "\n",
    "    # Defining the voxel range in which the nodule falls\n",
    "    # since everything comes in real world coordinates, you need to convert to voxel to be able to work with the pixels\n",
    "    v_center = (center-origin)/spacing\n",
    "    v_diam = int(diam/spacing[0]+5) # increase diameter by 5 to get pixels around nodule\n",
    "    # the question is why not just add 10 to v_diam and avoid doing the stuff below (with the -5 and +5?)\n",
    "    v_xmin = np.max([0,int(v_center[0]-v_diam)-5]) # subtract 5 again so now the radius is diam + 10\n",
    "    v_xmax = np.min([width-1,int(v_center[0]+v_diam)+5])\n",
    "    v_ymin = np.max([0,int(v_center[1]-v_diam)-5]) \n",
    "    v_ymax = np.min([height-1,int(v_center[1]+v_diam)+5])\n",
    "    # we don't want just the pixels of the nodule, we want the pixels around it as well to be able to identify it\n",
    "    # these are calculations using the voxel coordinates, and they always have bigger spacing compared to real world spacing\n",
    "    \n",
    "    v_xrange = range(v_xmin,v_xmax+1) # why add 1?\n",
    "    v_yrange = range(v_ymin,v_ymax+1) # add 1 because you are using it as a range attribute (if you don't add 1 then you will not be able to get the last pixel in the range due to the way range works)\n",
    "\n",
    "    # this part of the code is not used anywhere else\n",
    "    # Convert back to world coordinates for distance calculation\n",
    "    # x_data = [x*spacing[0]+origin[0] for x in range(width)]\n",
    "    # y_data = [x*spacing[1]+origin[1] for x in range(height)]\n",
    "\n",
    "    # the range at this point contains a lot more than just what is within the diameter (since the voxel coord>real coord) \n",
    "    # so this first narrows down which ones are within the diameter, then makes them 1\n",
    "    # Fill in 1 within sphere around nodule\n",
    "    for v_x in v_xrange:\n",
    "        for v_y in v_yrange:\n",
    "            p_x = spacing[0]*v_x + origin[0] # change to real world coordinates\n",
    "            p_y = spacing[1]*v_y + origin[1]\n",
    "            # linalg compares all 3 values and if any of them are not <= it is false\n",
    "            # compare the real world coordinates to see if pixel lies within diameter\n",
    "            if np.linalg.norm(center-np.array([p_x,p_y,z]))<=diam: # if this is true, it is within the radius so set it equal to 1\n",
    "                # convert the real world back to voxel coordinates to save 1 as value\n",
    "                mask[int((p_y-origin[1])/spacing[1]),int((p_x-origin[0])/spacing[0])] = 1.0 # this is the coordinate of the pixel in the mask\n",
    "    # this will run through all the likely pixels, and make the ones that are within 1 diameter of the center of the nodule 1 \n",
    "    # creates a black and white mask where 1 is where the nodule is\n",
    "    return(mask)"
   ]
  },
  {
   "cell_type": "code",
   "execution_count": 12,
   "metadata": {
    "collapsed": false
   },
   "outputs": [
    {
     "data": {
      "text/plain": [
       "'masks_0001_0025.npy'"
      ]
     },
     "execution_count": 12,
     "metadata": {},
     "output_type": "execute_result"
    }
   ],
   "source": [
    "fcount = 1\n",
    "node_idx = 25\n",
    "\"masks_%04d_%04d.npy\" % (fcount, node_idx) # the 4 tells the number of digits and the numbers replace the 0s\n",
    "# is this going to be an issue for unique identification? as you will be reusing fcount for all of the subset files?\n",
    "# it will not be an issue as node_idx is a unique identifier on its own (unique number for each node)\n",
    "# fcount is kind of useless"
   ]
  },
  {
   "cell_type": "code",
   "execution_count": 3,
   "metadata": {
    "collapsed": true
   },
   "outputs": [],
   "source": [
    "LUNA_DATA_PATH = '../../../../data/luna16/'\n",
    "LUNA_SUBSET_PATH = LUNA_DATA_PATH + 'subset0/'\n",
    "OUTPUT_PATH = '../../../../output/build-simple-model'\n",
    "FILE_LIST = glob(LUNA_SUBSET_PATH + '*.mhd')"
   ]
  },
  {
   "cell_type": "code",
   "execution_count": 4,
   "metadata": {
    "collapsed": false
   },
   "outputs": [
    {
     "name": "stdout",
     "output_type": "stream",
     "text": [
      "subset0: 89\n",
      "subset1: 89\n",
      "subset2: 89\n",
      "subset3: 89\n"
     ]
    }
   ],
   "source": [
    "for num in range(0, 4):\n",
    "    print(\"subset\" + str(num) + \": \" + str(len(glob(LUNA_DATA_PATH + 'subset' + str(num) + '/' + '*.mhd'))))"
   ]
  },
  {
   "cell_type": "code",
   "execution_count": 6,
   "metadata": {
    "collapsed": false
   },
   "outputs": [
    {
     "name": "stdout",
     "output_type": "stream",
     "text": [
      "../../../../data/luna16/subset0\\1.3.6.1.4.1.14519.5.2.1.6279.6001.105756658031515062000744821260.mhd\n"
     ]
    }
   ],
   "source": [
    "print(FILE_LIST[0])"
   ]
  },
  {
   "cell_type": "code",
   "execution_count": 6,
   "metadata": {
    "collapsed": false
   },
   "outputs": [
    {
     "name": "stdout",
     "output_type": "stream",
     "text": [
      "../../../../data/luna16/subset0/\n",
      "../../../../data/luna16/subset1/\n",
      "../../../../data/luna16/subset2/\n"
     ]
    }
   ],
   "source": [
    "for i in range(0, 3):\n",
    "    LUNA_SUBSET_PATH = LUNA_DATA_PATH + 'subset'+str(i)+'/'\n",
    "    print(LUNA_SUBSET_PATH)"
   ]
  },
  {
   "cell_type": "code",
   "execution_count": 28,
   "metadata": {
    "collapsed": false
   },
   "outputs": [
    {
     "name": "stdout",
     "output_type": "stream",
     "text": [
      "[[ 1.  1.  1.]\n",
      " [ 1.  1.  1.]]\n",
      "[[[ 1.  1.  1.  1.]\n",
      "  [ 1.  1.  1.  1.]\n",
      "  [ 1.  1.  1.  1.]]\n",
      "\n",
      " [[ 1.  1.  1.  1.]\n",
      "  [ 1.  1.  1.  1.]\n",
      "  [ 1.  1.  1.  1.]]]\n",
      "[[[ 0.  0.  0.  0.]\n",
      "  [ 1.  1.  1.  1.]\n",
      "  [ 1.  1.  1.  1.]]\n",
      "\n",
      " [[ 1.  1.  1.  1.]\n",
      "  [ 1.  1.  1.  1.]\n",
      "  [ 1.  1.  1.  1.]]]\n"
     ]
    }
   ],
   "source": [
    "a = np.ones([2,3]) # yields 2x3 (rows, columns)\n",
    "b = np.ones([2,3,4]) # yields 2x3x4 (z, rows, columns)\n",
    "print(a)\n",
    "print(b)\n",
    "b[0,0] = np.zeros([1,4])\n",
    "print(b)"
   ]
  },
  {
   "cell_type": "code",
   "execution_count": 37,
   "metadata": {
    "collapsed": false
   },
   "outputs": [
    {
     "name": "stdout",
     "output_type": "stream",
     "text": [
      "[['a', 'a'], ['b', 'b']]\n",
      "3\n"
     ]
    }
   ],
   "source": [
    "a = ['a', 'a']\n",
    "b = ['b', 'b']\n",
    "c = [a]\n",
    "c.append(b)\n",
    "print(c)\n",
    "\n",
    "FILE_LIST = []\n",
    "\n",
    "for i in range(0, 3):\n",
    "    LUNA_SUBSET_PATH = LUNA_DATA_PATH + 'subset'+str(i)+'/'\n",
    "    FILE_LIST.append(glob(LUNA_SUBSET_PATH + '*.mhd'))\n",
    "print(len(FILE_LIST))"
   ]
  },
  {
   "cell_type": "code",
   "execution_count": 39,
   "metadata": {
    "collapsed": false
   },
   "outputs": [
    {
     "name": "stdout",
     "output_type": "stream",
     "text": [
      "0\n",
      "89\n",
      "1\n",
      "89\n",
      "2\n",
      "89\n"
     ]
    }
   ],
   "source": [
    "for subsetnum, subsetlist in enumerate(FILE_LIST):\n",
    "    print(subsetnum)\n",
    "    print(len(subsetlist))"
   ]
  },
  {
   "cell_type": "markdown",
   "metadata": {},
   "source": [
    "## Checking Success of Code"
   ]
  },
  {
   "cell_type": "code",
   "execution_count": 73,
   "metadata": {
    "collapsed": false
   },
   "outputs": [
    {
     "name": "stdout",
     "output_type": "stream",
     "text": [
      "number of images: 184\n",
      "../../../../output/build-simple-model\\images_0000_0001_0023.npy\n"
     ]
    },
    {
     "data": {
      "image/png": "[encoded data removed]",
      "text/plain": [
       "<matplotlib.figure.Figure at 0x22d32d082e8>"
      ]
     },
     "metadata": {},
     "output_type": "display_data"
    },
    {
     "data": {
      "image/png": "[encoded data removed]",
      "text/plain": [
       "<matplotlib.figure.Figure at 0x22d3267c8d0>"
      ]
     },
     "metadata": {},
     "output_type": "display_data"
    },
    {
     "data": {
      "image/png": "[encoded data removed]",
      "text/plain": [
       "<matplotlib.figure.Figure at 0x22d32a3ec88>"
      ]
     },
     "metadata": {},
     "output_type": "display_data"
    }
   ],
   "source": [
    "import pylab\n",
    "from matplotlib.figure import Figure\n",
    "\n",
    "FILE_LIST = glob(OUTPUT_PATH + '/' + 'images' + '*.npy')\n",
    "print(\"number of images: \" + str(len(FILE_LIST)))\n",
    "for i, imgfilepath in enumerate(FILE_LIST):\n",
    "    print(imgfilepath)\n",
    "    maskfilepath = imgfilepath.replace('images', 'masks')\n",
    "    # print(maskfilepath)\n",
    "    imgfile = np.load(imgfilepath)\n",
    "    maskfile = np.load(maskfilepath)\n",
    "    # print(imgfile[0].ndim)\n",
    "    pylab.imshow(imgfile[0], cmap=pylab.cm.bone) \n",
    "    pylab.show()\n",
    "    pylab.imshow(maskfile[0], cmap=pylab.cm.bone) \n",
    "    pylab.show()\n",
    "    applied_mask = np.ndarray(imgfile[0].shape)\n",
    "    for i in range(len(imgfile[0])):\n",
    "        applied_mask[i] = imgfile[0][i] * maskfile[0][i]\n",
    "        \n",
    "    fig = pylab.figure(figsize = (52,52))\n",
    "    ax = fig.add_subplot(111)\n",
    "    ax.imshow(applied_mask, cmap='gray')\n",
    "    pylab.show()\n",
    "    break"
   ]
  },
  {
   "cell_type": "markdown",
   "metadata": {},
   "source": [
    "Success confirmed, when you run a major portion of the for loop, it yields acurate node masks"
   ]
  },
  {
   "cell_type": "code",
   "execution_count": null,
   "metadata": {
    "collapsed": true
   },
   "outputs": [],
   "source": []
  }
 ],
 "metadata": {
  "kernelspec": {
   "display_name": "Python 3",
   "language": "python",
   "name": "python3"
  },
  "language_info": {
   "codemirror_mode": {
    "name": "ipython",
    "version": 3
   },
   "file_extension": ".py",
   "mimetype": "text/x-python",
   "name": "python",
   "nbconvert_exporter": "python",
   "pygments_lexer": "ipython3",
   "version": "3.5.2"
  }
 },
 "nbformat": 4,
 "nbformat_minor": 2
}

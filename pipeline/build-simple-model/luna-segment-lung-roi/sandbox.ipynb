{
 "cells": [
  {
   "cell_type": "markdown",
   "metadata": {},
   "source": [
    "# LUNA Lung Segmentation ROI\n"
   ]
  },
  {
   "cell_type": "markdown",
   "metadata": {},
   "source": [
    "# Dependency Descriptions\n",
    "1. **skimage.morphology**: Morphological operations, e.g., opening or skeletonization.\n",
    "2. **skimage.measure**: Measurement of image properties, e.g., similarity and contours.\n",
    "3. **sklearn.cluster.KMeans**: clusters data by trying to separate samples in n groups of equal variance, minimizing a criterion known as the inertia or within-cluster sum-of-squares\n",
    "4. **skimage.transform.resize**: Geometric and other transforms, e.g., rotation or the Radon transform."
   ]
  },
  {
   "cell_type": "code",
   "execution_count": 1,
   "metadata": {
    "collapsed": false
   },
   "outputs": [],
   "source": [
    "import numpy as np\n",
    "from skimage import morphology\n",
    "from skimage import measure\n",
    "from sklearn.cluster import KMeans\n",
    "from skimage.transform import resize\n",
    "from glob import glob"
   ]
  },
  {
   "cell_type": "code",
   "execution_count": 2,
   "metadata": {
    "collapsed": false
   },
   "outputs": [],
   "source": [
    "WORKING_PATH = \"../../../../output/build-simple-model/\"\n",
    "FILE_LIST = glob(WORKING_PATH + \"images_*.npy\")"
   ]
  },
  {
   "cell_type": "code",
   "execution_count": 3,
   "metadata": {
    "collapsed": false
   },
   "outputs": [
    {
     "name": "stdout",
     "output_type": "stream",
     "text": [
      "../../../../output/build-simple-model\\images_0001_0023.npy\n"
     ]
    }
   ],
   "source": [
    "# run the program through a single set of images for demonstration\n",
    "for img_file in FILE_LIST:\n",
    "    print(img_file)"
   ]
  },
  {
   "cell_type": "code",
   "execution_count": 4,
   "metadata": {
    "collapsed": false
   },
   "outputs": [
    {
     "name": "stdout",
     "output_type": "stream",
     "text": [
      "on image ../../../../output/build-simple-model\\images_0001_0023.npy\n",
      "[[[-2048. -2048. -2048. ..., -2048. -2048. -2048.]\n",
      "  [-2048. -2048. -2048. ..., -2048. -2048. -2048.]\n",
      "  [-2048. -2048. -2048. ..., -2048. -2048. -2048.]\n",
      "  ..., \n",
      "  [-2048. -2048. -2048. ..., -2048. -2048. -2048.]\n",
      "  [-2048. -2048. -2048. ..., -2048. -2048. -2048.]\n",
      "  [-2048. -2048. -2048. ..., -2048. -2048. -2048.]]\n",
      "\n",
      " [[-2048. -2048. -2048. ..., -2048. -2048. -2048.]\n",
      "  [-2048. -2048. -2048. ..., -2048. -2048. -2048.]\n",
      "  [-2048. -2048. -2048. ..., -2048. -2048. -2048.]\n",
      "  ..., \n",
      "  [-2048. -2048. -2048. ..., -2048. -2048. -2048.]\n",
      "  [-2048. -2048. -2048. ..., -2048. -2048. -2048.]\n",
      "  [-2048. -2048. -2048. ..., -2048. -2048. -2048.]]\n",
      "\n",
      " [[-2048. -2048. -2048. ..., -2048. -2048. -2048.]\n",
      "  [-2048. -2048. -2048. ..., -2048. -2048. -2048.]\n",
      "  [-2048. -2048. -2048. ..., -2048. -2048. -2048.]\n",
      "  ..., \n",
      "  [-2048. -2048. -2048. ..., -2048. -2048. -2048.]\n",
      "  [-2048. -2048. -2048. ..., -2048. -2048. -2048.]\n",
      "  [-2048. -2048. -2048. ..., -2048. -2048. -2048.]]]\n"
     ]
    }
   ],
   "source": [
    "    imgs_to_process = np.load(img_file).astype(np.float64) # load the image as numpy array in float64\n",
    "    print(\"on image\", img_file)\n",
    "    print(imgs_to_process)"
   ]
  },
  {
   "cell_type": "code",
   "execution_count": 5,
   "metadata": {
    "collapsed": false
   },
   "outputs": [
    {
     "name": "stdout",
     "output_type": "stream",
     "text": [
      "0\n",
      "1\n",
      "2\n"
     ]
    }
   ],
   "source": [
    "    for i in range(len(imgs_to_process)):\n",
    "        print(i) # only 3 images in the numpy arrray (for the 3 layers)"
   ]
  },
  {
   "cell_type": "code",
   "execution_count": 6,
   "metadata": {
    "collapsed": false
   },
   "outputs": [],
   "source": [
    "i = 0 # for demonstration, the next parts will be done with i = 0 (only one image)\n",
    "img = imgs_to_process[i] # this is the img (a two dimensional numpy array)\n",
    "#Standardize the pixel values\n",
    "mean = np.mean(img)\n",
    "std = np.std(img)\n",
    "img = img-mean\n",
    "img = img/std # to standardize values you subtract mean and divide by standard deviation\n",
    "# note: A standardized variable is a variable that has been rescaled to have a mean of zero and a standard deviation of one"
   ]
  },
  {
   "cell_type": "code",
   "execution_count": 7,
   "metadata": {
    "collapsed": false
   },
   "outputs": [],
   "source": [
    "# Find the average pixel value near the lungs\n",
    "# to renormalize washed out images\n",
    "middle = img[100:400,100:400] # grabs the all pixels excluding pixels in a 100px border of the image \n",
    "mean = np.mean(middle)  # new mean which is the mean of pixels in the middle\n",
    "max = np.max(img) # max values in the current standardized pixel spectrum\n",
    "min = np.min(img) # min values in the current standardized pixel spectrum\n",
    "# To improve threshold finding, I'm moving the \n",
    "# underflow and overflow on the pixel spectrum\n",
    "img[img==max]=mean \n",
    "img[img==min]=mean # take all max/min values, and set them to mean values for sake of thresholding (so that the extreme outliers do not screw up the means)"
   ]
  },
  {
   "cell_type": "code",
   "execution_count": 8,
   "metadata": {
    "collapsed": false
   },
   "outputs": [
    {
     "name": "stdout",
     "output_type": "stream",
     "text": [
      "(300, 300)\n",
      "90000\n",
      "[[-0.25934945]\n",
      " [-0.25557844]\n",
      " [-0.26060646]\n",
      " ..., \n",
      " [ 0.98885633]\n",
      " [ 1.01776744]\n",
      " [ 0.91846406]]\n",
      "KMeans(algorithm='auto', copy_x=True, init='k-means++', max_iter=300,\n",
      "    n_clusters=2, n_init=10, n_jobs=1, precompute_distances='auto',\n",
      "    random_state=None, tol=0.0001, verbose=0)\n",
      "[[-0.01335521]\n",
      " [ 1.05730228]]\n",
      "[-0.01335521  1.05730228]\n",
      "[-0.013355206424837673, 1.0573022779300885]\n",
      "0.521973535753\n",
      "[[ 0.  0.  0. ...,  0.  0.  0.]\n",
      " [ 0.  0.  0. ...,  0.  0.  0.]\n",
      " [ 0.  0.  0. ...,  0.  0.  0.]\n",
      " ..., \n",
      " [ 0.  0.  0. ...,  0.  0.  0.]\n",
      " [ 0.  0.  0. ...,  0.  0.  0.]\n",
      " [ 0.  0.  0. ...,  0.  0.  0.]]\n"
     ]
    }
   ],
   "source": [
    "# Using Kmeans to separate foreground (radio-opaque tissue)\n",
    "# and background (radio transparent tissue ie lungs)\n",
    "# Doing this only on the center of the image to avoid \n",
    "# the non-tissue parts of the image as much as possible\n",
    "\n",
    "# kmeans algorithm: finds clusters in data \n",
    "# first initialize 2 centroids, then loop through these two steps until convergence:\n",
    "# assign all points to one of the two centroids, find mean of points, relocate centroid\n",
    "kmeans = KMeans(n_clusters=2).fit(np.reshape(middle,[np.prod(middle.shape),1])) # perform kmeans on the values in the middle\n",
    "centers = sorted(kmeans.cluster_centers_.flatten())\n",
    "threshold = np.mean(centers)\n",
    "thresh_img = np.where(img<threshold,1.0,0.0)  # threshold the image\n",
    "print(middle.shape)\n",
    "print(np.prod(middle.shape)) # multiply elements\n",
    "print(np.reshape(middle,[np.prod(middle.shape),1])) # Gives a new shape to an array without changing its data (now it is just a long list of numbers)\n",
    "print(kmeans) # at this point kmeans has been performed on the middle array\n",
    "print(kmeans.cluster_centers_) # each centroid is defined by a single value as pixel values are singlular values\n",
    "print(kmeans.cluster_centers_.flatten())\n",
    "print(sorted(kmeans.cluster_centers_.flatten())) # this will give you the two centroids which represent the two clusters of pixels in the image\n",
    "print(np.mean(centers)) # averaging the centroids: gives you a dividing threshold that distinguishes the two clusters of pixels\n",
    "print(np.where(img<threshold,1.0,0.0)) # where the image is less than the threshold make them 1, and greater make them 0 (thus segmenting lungs as 1, nonlungs as 0)"
   ]
  },
  {
   "cell_type": "code",
   "execution_count": 9,
   "metadata": {
    "collapsed": false
   },
   "outputs": [
    {
     "data": {
      "image/png": "[encoded data removed]",
      "text/plain": [
       "<matplotlib.figure.Figure at 0x1b15e29bdd8>"
      ]
     },
     "metadata": {},
     "output_type": "display_data"
    },
    {
     "data": {
      "image/png": "[encoded data removed]",
      "text/plain": [
       "<matplotlib.figure.Figure at 0x1b15e266da0>"
      ]
     },
     "metadata": {},
     "output_type": "display_data"
    },
    {
     "data": {
      "image/png": "[encoded data removed]",
      "text/plain": [
       "<matplotlib.figure.Figure at 0x1b160e98e80>"
      ]
     },
     "metadata": {},
     "output_type": "display_data"
    }
   ],
   "source": [
    "# I found an initial erosion helful for removing graininess from some of the regions\n",
    "# and then large dialation is used to make the lung region \n",
    "# engulf the vessels and incursions into the lung cavity by \n",
    "# radio opaque tissue\n",
    "eroded = morphology.erosion(thresh_img,np.ones([4,4]))\n",
    "dilation = morphology.dilation(eroded,np.ones([10,10]))\n",
    "\n",
    "import pylab\n",
    "pylab.imshow(thresh_img, cmap=pylab.cm.bone) \n",
    "pylab.show()\n",
    "# erosion: shrinks bright regions, enlarges dark regions\n",
    "# the larger the neighborhood array you give it (the more it shrinks and enlarges)\n",
    "# For more understanding look at this example: https://en.wikipedia.org/wiki/Erosion_(morphology)#Example\n",
    "pylab.imshow(eroded, cmap=pylab.cm.bone) # removes graininess\n",
    "pylab.show()\n",
    "# dilation: shrinks dark regions, enlarges bright regions\n",
    "pylab.imshow(dilation, cmap=pylab.cm.bone) # makes sure insides of lungs (vessels) as well as a little around lungs is contained in final image (as this is a mask that will be overlaid)\n",
    "pylab.show()"
   ]
  },
  {
   "cell_type": "code",
   "execution_count": 10,
   "metadata": {
    "collapsed": false
   },
   "outputs": [
    {
     "name": "stdout",
     "output_type": "stream",
     "text": [
      "[[1 0 0]\n",
      " [1 1 2]\n",
      " [0 0 2]]\n"
     ]
    },
    {
     "data": {
      "image/png": "[encoded data removed]",
      "text/plain": [
       "<matplotlib.figure.Figure at 0x1b15e29bf60>"
      ]
     },
     "metadata": {},
     "output_type": "display_data"
    },
    {
     "name": "stdout",
     "output_type": "stream",
     "text": [
      "[0 1 2 3]\n",
      "[<skimage.measure._regionprops._RegionProperties object at 0x000001B160E140B8>, <skimage.measure._regionprops._RegionProperties object at 0x000001B1610F6E80>, <skimage.measure._regionprops._RegionProperties object at 0x000001B160E19588>]\n"
     ]
    }
   ],
   "source": [
    "#  Label each region and obtain the region properties\n",
    "#  The background region is removed by removing regions \n",
    "#  with a bbox that is to large in either dimnsion\n",
    "#  Also, the lungs are generally far away from the top \n",
    "#  and bottom of the image, so any regions that are too\n",
    "#  close to the top and bottom are removed\n",
    "#  This does not produce a perfect segmentation of the lungs\n",
    "#  from the image, but it is surprisingly good considering its\n",
    "#  simplicity.\n",
    "labels = measure.label(dilation)\n",
    "label_vals = np.unique(labels)\n",
    "regions = measure.regionprops(labels)\n",
    "\n",
    "x = np.array([[1, 0, 0], [1, 1, 5], [0, 0, 5]])\n",
    "print(measure.label(x)) # as you can tell, label will give a label to every region with the same pixel values\n",
    "pylab.imshow(labels, cmap = 'viridis') \n",
    "pylab.show()\n",
    "print(label_vals) # there are 4 labeled regions, and as shown in the image, the purple, blue, yellow and cyan indicate different labels\n",
    "print(regions) # measure properties of labeled image regions"
   ]
  },
  {
   "cell_type": "code",
   "execution_count": 11,
   "metadata": {
    "collapsed": false
   },
   "outputs": [
    {
     "name": "stdout",
     "output_type": "stream",
     "text": [
      "<skimage.measure._regionprops._RegionProperties object at 0x000001B160E140B8>\n",
      "1\n",
      "(0, 0, 512, 512)\n",
      "<skimage.measure._regionprops._RegionProperties object at 0x000001B1610F6E80>\n",
      "2\n",
      "(131, 280, 360, 443)\n",
      "<skimage.measure._regionprops._RegionProperties object at 0x000001B160E19588>\n",
      "3\n",
      "(193, 54, 368, 251)\n",
      "[2, 3]\n"
     ]
    }
   ],
   "source": [
    "good_labels = []\n",
    "for prop in regions:\n",
    "    print(prop) # there are 3 props\n",
    "    print(prop.label) # the 0 labeled prop (purple region above) is excluded (as it is not useful for lung mask anyways)\n",
    "    B = prop.bbox\n",
    "    print(B)\n",
    "    \n",
    "    # look for in both x and y dimensions, is the region small enough (large regions probably do not contain lungs)\n",
    "    # then look to see if the region is towards the center of the image (away from the side regions probably contain lungs)\n",
    "    # if the region is small enough, and away from the sides of the image, then it contains the lungs\n",
    "    if B[2]-B[0]<475 and B[3]-B[1]<475 and B[0]>40 and B[2]<472: \n",
    "        good_labels.append(prop.label)\n",
    "print(good_labels)\n",
    "mask = np.ndarray([512,512],dtype=np.int8)\n",
    "mask[:] = 0 # create a mask with all 0s"
   ]
  },
  {
   "cell_type": "code",
   "execution_count": 12,
   "metadata": {
    "collapsed": true
   },
   "outputs": [],
   "source": [
    "#  The mask here is the mask for the lungs--not the nodes\n",
    "#  After just the lungs are left, we do another large dilation\n",
    "#  in order to fill in and out the lung mask \n",
    "for N in good_labels: # for all the good labels\n",
    "    # where the label is a good label in the image, set that region in the mask to the value of 1\n",
    "    mask = mask + np.where(labels==N,1,0)\n",
    "mask = morphology.dilation(mask,np.ones([10,10])) # one last dilation\n",
    "imgs_to_process[i] = mask\n",
    "\n",
    "# create a new file (in same path, and identification number), and save the lung masks\n",
    "np.save(img_file.replace(\"images\",\"lungmask\"),imgs_to_process)"
   ]
  },
  {
   "cell_type": "code",
   "execution_count": 13,
   "metadata": {
    "collapsed": false
   },
   "outputs": [
    {
     "name": "stdout",
     "output_type": "stream",
     "text": [
      "on image ../../../../output/build-simple-model\\images_0001_0023.npy\n"
     ]
    },
    {
     "data": {
      "image/png": "[encoded data removed]",
      "text/plain": [
       "<matplotlib.figure.Figure at 0x1b160e140b8>"
      ]
     },
     "metadata": {},
     "output_type": "display_data"
    },
    {
     "data": {
      "image/png": "[encoded data removed]",
      "text/plain": [
       "<matplotlib.figure.Figure at 0x1b16111b358>"
      ]
     },
     "metadata": {},
     "output_type": "display_data"
    },
    {
     "data": {
      "image/png": "[encoded data removed]",
      "text/plain": [
       "<matplotlib.figure.Figure at 0x1b15edc29b0>"
      ]
     },
     "metadata": {},
     "output_type": "display_data"
    }
   ],
   "source": [
    "# create the 3 lung masks and save them to correct location\n",
    "# this is so you can work with them later in the sandbox\n",
    "for img_file in FILE_LIST:\n",
    "    # I ran into an error when using Kmean on np.float16, so I'm using np.float64 here\n",
    "    imgs_to_process = np.load(img_file).astype(np.float64) \n",
    "    print(\"on image\", img_file)\n",
    "    for i in range(len(imgs_to_process)):\n",
    "        img = imgs_to_process[i]\n",
    "        #Standardize the pixel values\n",
    "        mean = np.mean(img)\n",
    "        std = np.std(img)\n",
    "        img = img-mean\n",
    "        img = img/std\n",
    "        # Find the average pixel value near the lungs\n",
    "        # to renormalize washed out images\n",
    "        middle = img[100:400,100:400] \n",
    "        mean = np.mean(middle)  \n",
    "        max = np.max(img)\n",
    "        min = np.min(img)\n",
    "        # To improve threshold finding, I'm moving the \n",
    "        # underflow and overflow on the pixel spectrum\n",
    "        img[img==max]=mean\n",
    "        img[img==min]=mean\n",
    "        #\n",
    "        # Using Kmeans to separate foreground (radio-opaque tissue)\n",
    "        # and background (radio transparent tissue ie lungs)\n",
    "        # Doing this only on the center of the image to avoid \n",
    "        # the non-tissue parts of the image as much as possible\n",
    "        #\n",
    "        kmeans = KMeans(n_clusters=2).fit(np.reshape(middle,[np.prod(middle.shape),1]))\n",
    "        centers = sorted(kmeans.cluster_centers_.flatten())\n",
    "        threshold = np.mean(centers)\n",
    "        thresh_img = np.where(img<threshold,1.0,0.0)  # threshold the image\n",
    "        #\n",
    "        # I found an initial erosion helful for removing graininess from some of the regions\n",
    "        # and then large dialation is used to make the lung region \n",
    "        # engulf the vessels and incursions into the lung cavity by \n",
    "        # radio opaque tissue\n",
    "        #\n",
    "        eroded = morphology.erosion(thresh_img,np.ones([4,4]))\n",
    "        dilation = morphology.dilation(eroded,np.ones([10,10]))\n",
    "        #\n",
    "        #  Label each region and obtain the region properties\n",
    "        #  The background region is removed by removing regions \n",
    "        #  with a bbox that is to large in either dimnsion\n",
    "        #  Also, the lungs are generally far away from the top \n",
    "        #  and bottom of the image, so any regions that are too\n",
    "        #  close to the top and bottom are removed\n",
    "        #  This does not produce a perfect segmentation of the lungs\n",
    "        #  from the image, but it is surprisingly good considering its\n",
    "        #  simplicity. \n",
    "        #\n",
    "        labels = measure.label(dilation)\n",
    "        label_vals = np.unique(labels)\n",
    "        regions = measure.regionprops(labels)\n",
    "        good_labels = []\n",
    "        for prop in regions:\n",
    "            B = prop.bbox\n",
    "            if B[2]-B[0]<475 and B[3]-B[1]<475 and B[0]>40 and B[2]<472:\n",
    "                good_labels.append(prop.label)\n",
    "        mask = np.ndarray([512,512],dtype=np.int8)\n",
    "        mask[:] = 0\n",
    "        #\n",
    "        #  The mask here is the mask for the lungs--not the nodes\n",
    "        #  After just the lungs are left, we do another large dilation\n",
    "        #  in order to fill in and out the lung mask \n",
    "        #\n",
    "        for N in good_labels:\n",
    "            mask = mask + np.where(labels==N,1,0)\n",
    "        mask = morphology.dilation(mask,np.ones([10,10])) # one last dilation\n",
    "        imgs_to_process[i] = mask\n",
    "        pylab.imshow(mask, cmap=pylab.cm.bone) \n",
    "        pylab.show()\n",
    "    np.save(img_file.replace(\"images\",\"lungmask\"),imgs_to_process)"
   ]
  },
  {
   "cell_type": "code",
   "execution_count": null,
   "metadata": {
    "collapsed": true
   },
   "outputs": [],
   "source": []
  }
 ],
 "metadata": {
  "kernelspec": {
   "display_name": "Python 3",
   "language": "python",
   "name": "python3"
  },
  "language_info": {
   "codemirror_mode": {
    "name": "ipython",
    "version": 3
   },
   "file_extension": ".py",
   "mimetype": "text/x-python",
   "name": "python",
   "nbconvert_exporter": "python",
   "pygments_lexer": "ipython3",
   "version": "3.5.2"
  }
 },
 "nbformat": 4,
 "nbformat_minor": 2
}

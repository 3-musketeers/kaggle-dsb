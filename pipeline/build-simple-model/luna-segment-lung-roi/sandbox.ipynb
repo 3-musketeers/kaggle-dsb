{
 "cells": [
  {
   "cell_type": "markdown",
   "metadata": {},
   "source": [
    "# LUNA Lung Segmentation ROI\n"
   ]
  },
  {
   "cell_type": "markdown",
   "metadata": {},
   "source": [
    "# Dependency Descriptions\n",
    "1. **skimage.morphology**: Morphological operations, e.g., opening or skeletonization.\n",
    "2. **skimage.measure**: Measurement of image properties, e.g., similarity and contours.\n",
    "3. **sklearn.cluster.KMeans**: clusters data by trying to separate samples in n groups of equal variance, minimizing a criterion known as the inertia or within-cluster sum-of-squares\n",
    "4. **skimage.transform.resize**: Geometric and other transforms, e.g., rotation or the Radon transform."
   ]
  },
  {
   "cell_type": "code",
   "execution_count": 1,
   "metadata": {
    "collapsed": false
   },
   "outputs": [],
   "source": [
    "import numpy as np\n",
    "from skimage import morphology\n",
    "from skimage import measure\n",
    "from sklearn.cluster import KMeans\n",
    "from skimage.transform import resize\n",
    "from glob import glob"
   ]
  },
  {
   "cell_type": "code",
   "execution_count": 2,
   "metadata": {
    "collapsed": false
   },
   "outputs": [],
   "source": [
    "WORKING_PATH = \"../../../../output/build-simple-model/\"\n",
    "FILE_LIST = glob(WORKING_PATH + \"images_*.npy\")"
   ]
  },
  {
   "cell_type": "code",
   "execution_count": 3,
   "metadata": {
    "collapsed": false
   },
   "outputs": [
    {
     "name": "stdout",
     "output_type": "stream",
     "text": [
      "../../../../output/build-simple-model\\images_0001_0023.npy\n"
     ]
    }
   ],
   "source": [
    "# run the program through a single set of images for demonstration\n",
    "for img_file in FILE_LIST:\n",
    "    print(img_file)"
   ]
  },
  {
   "cell_type": "code",
   "execution_count": 4,
   "metadata": {
    "collapsed": false
   },
   "outputs": [
    {
     "name": "stdout",
     "output_type": "stream",
     "text": [
      "on image ../../../../output/build-simple-model\\images_0001_0023.npy\n",
      "[[[-2048. -2048. -2048. ..., -2048. -2048. -2048.]\n",
      "  [-2048. -2048. -2048. ..., -2048. -2048. -2048.]\n",
      "  [-2048. -2048. -2048. ..., -2048. -2048. -2048.]\n",
      "  ..., \n",
      "  [-2048. -2048. -2048. ..., -2048. -2048. -2048.]\n",
      "  [-2048. -2048. -2048. ..., -2048. -2048. -2048.]\n",
      "  [-2048. -2048. -2048. ..., -2048. -2048. -2048.]]\n",
      "\n",
      " [[-2048. -2048. -2048. ..., -2048. -2048. -2048.]\n",
      "  [-2048. -2048. -2048. ..., -2048. -2048. -2048.]\n",
      "  [-2048. -2048. -2048. ..., -2048. -2048. -2048.]\n",
      "  ..., \n",
      "  [-2048. -2048. -2048. ..., -2048. -2048. -2048.]\n",
      "  [-2048. -2048. -2048. ..., -2048. -2048. -2048.]\n",
      "  [-2048. -2048. -2048. ..., -2048. -2048. -2048.]]\n",
      "\n",
      " [[-2048. -2048. -2048. ..., -2048. -2048. -2048.]\n",
      "  [-2048. -2048. -2048. ..., -2048. -2048. -2048.]\n",
      "  [-2048. -2048. -2048. ..., -2048. -2048. -2048.]\n",
      "  ..., \n",
      "  [-2048. -2048. -2048. ..., -2048. -2048. -2048.]\n",
      "  [-2048. -2048. -2048. ..., -2048. -2048. -2048.]\n",
      "  [-2048. -2048. -2048. ..., -2048. -2048. -2048.]]]\n"
     ]
    }
   ],
   "source": [
    "    imgs_to_process = np.load(img_file).astype(np.float64) # load the image as numpy array in float64\n",
    "    print(\"on image\", img_file)\n",
    "    print(imgs_to_process)"
   ]
  },
  {
   "cell_type": "code",
   "execution_count": 5,
   "metadata": {
    "collapsed": false
   },
   "outputs": [
    {
     "name": "stdout",
     "output_type": "stream",
     "text": [
      "0\n",
      "1\n",
      "2\n"
     ]
    }
   ],
   "source": [
    "    for i in range(len(imgs_to_process)):\n",
    "        print(i) # only 3 images in the numpy arrray (for the 3 layers)"
   ]
  },
  {
   "cell_type": "code",
   "execution_count": 6,
   "metadata": {
    "collapsed": false
   },
   "outputs": [],
   "source": [
    "i = 0 # for demonstration, the next parts will be done with i = 0 (only one image)\n",
    "img = imgs_to_process[i] # this is the img (a two dimensional numpy array)\n",
    "#Standardize the pixel values\n",
    "mean = np.mean(img)\n",
    "std = np.std(img)\n",
    "img = img-mean\n",
    "img = img/std # to standardize values you subtract mean and divide by standard deviation\n",
    "# note: A standardized variable is a variable that has been rescaled to have a mean of zero and a standard deviation of one"
   ]
  },
  {
   "cell_type": "code",
   "execution_count": 7,
   "metadata": {
    "collapsed": false
   },
   "outputs": [],
   "source": [
    "# Find the average pixel value near the lungs\n",
    "# to renormalize washed out images\n",
    "middle = img[100:400,100:400] # grabs the all pixels excluding pixels in a 100px border of the image \n",
    "mean = np.mean(middle)  # new mean which is the mean of pixels in the middle\n",
    "max = np.max(img) # max values in the current standardized pixel spectrum\n",
    "min = np.min(img) # min values in the current standardized pixel spectrum\n",
    "# To improve threshold finding, I'm moving the \n",
    "# underflow and overflow on the pixel spectrum\n",
    "img[img==max]=mean \n",
    "img[img==min]=mean # take all max/min values, and set them to mean values for sake of thresholding (so that the extreme outliers do not screw up the means)"
   ]
  },
  {
   "cell_type": "code",
   "execution_count": 8,
   "metadata": {
    "collapsed": false
   },
   "outputs": [
    {
     "name": "stdout",
     "output_type": "stream",
     "text": [
      "(300, 300)\n",
      "90000\n",
      "[[-0.25934945]\n",
      " [-0.25557844]\n",
      " [-0.26060646]\n",
      " ..., \n",
      " [ 0.98885633]\n",
      " [ 1.01776744]\n",
      " [ 0.91846406]]\n",
      "KMeans(algorithm='auto', copy_x=True, init='k-means++', max_iter=300,\n",
      "    n_clusters=2, n_init=10, n_jobs=1, precompute_distances='auto',\n",
      "    random_state=None, tol=0.0001, verbose=0)\n",
      "[[ 1.05730228]\n",
      " [-0.01335521]]\n",
      "[ 1.05730228 -0.01335521]\n",
      "[-0.013355206424837673, 1.0573022779300885]\n",
      "0.521973535753\n",
      "[[ 0.  0.  0. ...,  0.  0.  0.]\n",
      " [ 0.  0.  0. ...,  0.  0.  0.]\n",
      " [ 0.  0.  0. ...,  0.  0.  0.]\n",
      " ..., \n",
      " [ 0.  0.  0. ...,  0.  0.  0.]\n",
      " [ 0.  0.  0. ...,  0.  0.  0.]\n",
      " [ 0.  0.  0. ...,  0.  0.  0.]]\n"
     ]
    }
   ],
   "source": [
    "# Using Kmeans to separate foreground (radio-opaque tissue)\n",
    "# and background (radio transparent tissue ie lungs)\n",
    "# Doing this only on the center of the image to avoid \n",
    "# the non-tissue parts of the image as much as possible\n",
    "\n",
    "# kmeans algorithm: finds clusters in data \n",
    "# first initialize 2 centroids, then loop through these two steps until convergence:\n",
    "# assign all points to one of the two centroids, find mean of points, relocate centroid\n",
    "kmeans = KMeans(n_clusters=2).fit(np.reshape(middle,[np.prod(middle.shape),1])) # perform kmeans on the values in the middle\n",
    "centers = sorted(kmeans.cluster_centers_.flatten())\n",
    "threshold = np.mean(centers)\n",
    "thresh_img = np.where(img<threshold,1.0,0.0)  # threshold the image\n",
    "print(middle.shape)\n",
    "print(np.prod(middle.shape)) # multiply elements\n",
    "print(np.reshape(middle,[np.prod(middle.shape),1])) # Gives a new shape to an array without changing its data (now it is just a long list of numbers)\n",
    "print(kmeans) # at this point kmeans has been performed on the middle array\n",
    "print(kmeans.cluster_centers_) # each centroid is defined by a single value as pixel values are singlular values\n",
    "print(kmeans.cluster_centers_.flatten())\n",
    "print(sorted(kmeans.cluster_centers_.flatten())) # this will give you the two centroids which represent the two clusters of pixels in the image\n",
    "print(np.mean(centers)) # averaging the centroids: gives you a dividing threshold that distinguishes the two clusters of pixels\n",
    "print(np.where(img<threshold,1.0,0.0)) # where the image is less than the threshold make them 1, and greater make them 0 (thus segmenting lungs as 1, nonlungs as 0)"
   ]
  },
  {
   "cell_type": "code",
   "execution_count": null,
   "metadata": {
    "collapsed": true
   },
   "outputs": [],
   "source": []
  }
 ],
 "metadata": {
  "kernelspec": {
   "display_name": "Python 3",
   "language": "python",
   "name": "python3"
  },
  "language_info": {
   "codemirror_mode": {
    "name": "ipython",
    "version": 3
   },
   "file_extension": ".py",
   "mimetype": "text/x-python",
   "name": "python",
   "nbconvert_exporter": "python",
   "pygments_lexer": "ipython3",
   "version": "3.5.2"
  }
 },
 "nbformat": 4,
 "nbformat_minor": 2
}

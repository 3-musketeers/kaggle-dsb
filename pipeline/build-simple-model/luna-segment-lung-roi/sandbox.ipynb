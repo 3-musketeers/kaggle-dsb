{
 "cells": [
  {
   "cell_type": "markdown",
   "metadata": {},
   "source": [
    "# LUNA Lung Segmentation ROI\n"
   ]
  },
  {
   "cell_type": "markdown",
   "metadata": {},
   "source": [
    "# Dependency Descriptions\n",
    "1. **skimage.morphology**: Morphological operations, e.g., opening or skeletonization.\n",
    "2. **skimage.measure**: Measurement of image properties, e.g., similarity and contours.\n",
    "3. **sklearn.cluster.KMeans**: clusters data by trying to separate samples in n groups of equal variance, minimizing a criterion known as the inertia or within-cluster sum-of-squares\n",
    "4. **skimage.transform.resize**: Geometric and other transforms, e.g., rotation or the Radon transform."
   ]
  },
  {
   "cell_type": "code",
   "execution_count": 1,
   "metadata": {
    "collapsed": false
   },
   "outputs": [],
   "source": [
    "import numpy as np\n",
    "from skimage import morphology\n",
    "from skimage import measure\n",
    "from sklearn.cluster import KMeans\n",
    "from skimage.transform import resize\n",
    "from glob import glob"
   ]
  },
  {
   "cell_type": "code",
   "execution_count": 2,
   "metadata": {
    "collapsed": false
   },
   "outputs": [],
   "source": [
    "WORKING_PATH = \"../../../../output/build-simple-model/\"\n",
    "FILE_LIST = glob(WORKING_PATH + \"images_*.npy\")"
   ]
  },
  {
   "cell_type": "code",
   "execution_count": 3,
   "metadata": {
    "collapsed": false
   },
   "outputs": [
    {
     "name": "stdout",
     "output_type": "stream",
     "text": [
      "../../../../output/build-simple-model\\images_0001_0023.npy\n"
     ]
    }
   ],
   "source": [
    "# run the program through a single set of images for demonstration\n",
    "for img_file in FILE_LIST:\n",
    "    print(img_file)"
   ]
  },
  {
   "cell_type": "code",
   "execution_count": 4,
   "metadata": {
    "collapsed": false
   },
   "outputs": [
    {
     "name": "stdout",
     "output_type": "stream",
     "text": [
      "on image ../../../../output/build-simple-model\\images_0001_0023.npy\n",
      "[[[-2048. -2048. -2048. ..., -2048. -2048. -2048.]\n",
      "  [-2048. -2048. -2048. ..., -2048. -2048. -2048.]\n",
      "  [-2048. -2048. -2048. ..., -2048. -2048. -2048.]\n",
      "  ..., \n",
      "  [-2048. -2048. -2048. ..., -2048. -2048. -2048.]\n",
      "  [-2048. -2048. -2048. ..., -2048. -2048. -2048.]\n",
      "  [-2048. -2048. -2048. ..., -2048. -2048. -2048.]]\n",
      "\n",
      " [[-2048. -2048. -2048. ..., -2048. -2048. -2048.]\n",
      "  [-2048. -2048. -2048. ..., -2048. -2048. -2048.]\n",
      "  [-2048. -2048. -2048. ..., -2048. -2048. -2048.]\n",
      "  ..., \n",
      "  [-2048. -2048. -2048. ..., -2048. -2048. -2048.]\n",
      "  [-2048. -2048. -2048. ..., -2048. -2048. -2048.]\n",
      "  [-2048. -2048. -2048. ..., -2048. -2048. -2048.]]\n",
      "\n",
      " [[-2048. -2048. -2048. ..., -2048. -2048. -2048.]\n",
      "  [-2048. -2048. -2048. ..., -2048. -2048. -2048.]\n",
      "  [-2048. -2048. -2048. ..., -2048. -2048. -2048.]\n",
      "  ..., \n",
      "  [-2048. -2048. -2048. ..., -2048. -2048. -2048.]\n",
      "  [-2048. -2048. -2048. ..., -2048. -2048. -2048.]\n",
      "  [-2048. -2048. -2048. ..., -2048. -2048. -2048.]]]\n"
     ]
    }
   ],
   "source": [
    "    imgs_to_process = np.load(img_file).astype(np.float64) # load the image as numpy array in float64\n",
    "    print(\"on image\", img_file)\n",
    "    print(imgs_to_process)"
   ]
  },
  {
   "cell_type": "code",
   "execution_count": 5,
   "metadata": {
    "collapsed": false
   },
   "outputs": [
    {
     "name": "stdout",
     "output_type": "stream",
     "text": [
      "0\n",
      "1\n",
      "2\n"
     ]
    }
   ],
   "source": [
    "    for i in range(len(imgs_to_process)):\n",
    "        print(i) # only 3 images in the numpy arrray (for the 3 layers)"
   ]
  },
  {
   "cell_type": "code",
   "execution_count": 6,
   "metadata": {
    "collapsed": true
   },
   "outputs": [],
   "source": [
    "    for i in range(len(imgs_to_process)):\n",
    "        img = imgs_to_process[i] # this is the img (a two dimensional numpy array)\n",
    "        #Standardize the pixel values\n",
    "        mean = np.mean(img)\n",
    "        std = np.std(img)\n",
    "        img = img-mean\n",
    "        img = img/std # to standardize values you subtract mean and divide by standard deviation\n",
    "        # note: A standardized variable is a variable that has been rescaled to have a mean of zero and a standard deviation of one"
   ]
  },
  {
   "cell_type": "code",
   "execution_count": 7,
   "metadata": {
    "collapsed": true
   },
   "outputs": [],
   "source": [
    "    for i in range(len(imgs_to_process)):\n",
    "        # Find the average pixel value near the lungs\n",
    "        # to renormalize washed out images\n",
    "        middle = img[100:400,100:400] # grabs the all pixels excluding pixels in a 100px border of the image \n",
    "        mean = np.mean(middle)  # new mean which is the mean of pixels in the middle\n",
    "        max = np.max(img) # max values in the current standardized pixel spectrum\n",
    "        min = np.min(img) # min values in the current standardized pixel spectrum\n",
    "        # To improve threshold finding, I'm moving the \n",
    "        # underflow and overflow on the pixel spectrum\n",
    "        img[img==max]=mean \n",
    "        img[img==min]=mean # take all max/min values, and set them to mean values for sake of thresholding"
   ]
  },
  {
   "cell_type": "code",
   "execution_count": null,
   "metadata": {
    "collapsed": true
   },
   "outputs": [],
   "source": []
  }
 ],
 "metadata": {
  "kernelspec": {
   "display_name": "Python 3",
   "language": "python",
   "name": "python3"
  },
  "language_info": {
   "codemirror_mode": {
    "name": "ipython",
    "version": 3
   },
   "file_extension": ".py",
   "mimetype": "text/x-python",
   "name": "python",
   "nbconvert_exporter": "python",
   "pygments_lexer": "ipython3",
   "version": "3.5.2"
  }
 },
 "nbformat": 4,
 "nbformat_minor": 2
}

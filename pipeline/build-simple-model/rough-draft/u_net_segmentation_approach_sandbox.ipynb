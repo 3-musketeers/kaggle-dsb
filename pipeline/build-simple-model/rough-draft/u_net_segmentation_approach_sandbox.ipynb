{
 "cells": [
  {
   "cell_type": "markdown",
   "metadata": {},
   "source": [
    "# [U-Net Segmentation Approach to Cancer Diagnosis](https://www.kaggle.com/c/data-science-bowl-2017#tutorial)\n",
    "*approach to predicting whether a CT scan is of a patient who either has or will develop cancer within the next 12 months or not*\n",
    "\n",
    "General Approach:\n",
    "1. train a network to segment out potentially cancerous nodules\n",
    "2. use the characteristics of that segmentation to make predictions about the diagnosis of the scanned patient within a 12 month time frame"
   ]
  },
  {
   "cell_type": "markdown",
   "metadata": {},
   "source": [
    "# Downloading Instructions\n",
    "1. **pydicom** (dicom): type in anaconda command prompt: `pip install pydicom` ([reference](http://pydicom.readthedocs.io/en/latest/getting_started.html))\n",
    "2. **SimpleITK**: type in anaconda command prompt: `conda install -c https://conda.anaconda.org/simpleitk SimpleITK` ([reference](https://itk.org/Wiki/SimpleITK/GettingStarted))\n",
    "3. **xgboost**: type in anaconda command prompt: `pip install xgboost` ([reference](http://machinelearningmastery.com/gentle-introduction-xgboost-applied-machine-learning/), [long version reference](https://www.ibm.com/developerworks/community/blogs/jfp/entry/Installing_XGBoost_For_Anaconda_on_Windows?lang=en))\n",
    "4. **tqdm**: type in anaconda command prompt: `pip install tqdm` ([reference](https://pypi.python.org/pypi/tqdm#usage))\n",
    "\n",
    "## Installing Keras, Tensorflow, CuDNN, Cuda Tool Kit\n",
    "*how to install keras, and the gpu supported version of tensorflow, as well as the entire GPU computing library*\n",
    "\n",
    "**Follow the instructions [here](https://github.com/3-musketeers/kaggle-dsb/blob/master/pipeline/build-simple-model/rough-draft/model_dependency_setup.md)**\n",
    "\n",
    "## Downloading Data\n",
    "**Follow the instructions [here](https://github.com/3-musketeers/kaggle-dsb/blob/master/pipeline/build-simple-model/rough-draft/model_data_setup.md)**"
   ]
  },
  {
   "cell_type": "markdown",
   "metadata": {},
   "source": [
    "# Dependency Descriptions\n",
    "1. **numpy**: an extension to the Python programming language, adding support for large, multi-dimensional arrays and matrices, along with a large library of high-level mathematical functions to operate on these arrays\n",
    "2. **scikit-image** (skimage): collection of algorithms for image processing\n",
    "3. **scikit-learn**: simple and efficient tools for data mining and data analysis\n",
    "4. **keras** (tensorflow backend): high-level neural networks library, written in Python (runs on top of TensorFlow)\n",
    "5. **matplotlib**: a Python 2D plotting library which produces publication quality figures in a variety of hardcopy formats and interactive environments across platforms\n",
    "6. **pydicom** (dicom): pydicom is a pure python package for working with DICOM files such as medical images, reports, and radiotherapy objects\n",
    "7. **SimpleITK**: an open-source, cross-platform system that provides developers with an extensive suite of software tools for image analysis \n",
    "8. **pandas**: providing high-performance, easy-to-use data structures and data analysis tools for the Python programming language\n",
    "9. **glob**: a module that finds all the pathnames matching a specified pattern according to the rules used by the Unix shell (results returned in arbitrary order)\n",
    "10. **csv**: a module that implements classes to read and write tabular data in CSV format\n",
    "11. **os**: a module that provides a portable way of using operating system dependent functionality\n",
    "12. **xgboost**: a library designed and optimized for boosting trees algorithms\n",
    "13. **pickle**: standard mechanism for object serialization\n",
    "14. **tqdm**: instantly make your loops show a smart progress meter"
   ]
  },
  {
   "cell_type": "markdown",
   "metadata": {},
   "source": [
    "## Details:\n",
    "1. U-Net style convolutional network: to identify regions with nodules (U-net was designed for segmenting neuronal structures)\n",
    "2. appearance on nodules within the CT scan: indicate the possibility of cancer\n",
    "3. Lung Nodule Analysis 2016 (LUNA2016):\n",
    "   1. provides training examples with marked nodules in order train the U Net to find these nodules (CT images with annotated nodule locations)\n",
    "   2. use the LUNA data set to generate an appropriate training set for our U-Net\n",
    "   3. use these examples to train our supervised segmenter"
   ]
  },
  {
   "cell_type": "markdown",
   "metadata": {},
   "source": [
    "# Construct Training Set From LUNA16\n",
    "*goal:*\n",
    "\n",
    "Process:\n",
    "1. use the nodule locations as given in annotations.csv and extract three transverse slices that contain the largest nodule from each patient scan\n",
    "2. masks will be created for those slices based on the nodule dimensions given in annotations.csv\n",
    "3. output of this file will be two files for each patient scan: a set of images and a set of corresponding nodule masks\n",
    "\n",
    "\n",
    "* import tools\n",
    "* find largest nodule in the patient scan\n",
    "* use df_node (a pandas dataframe): to keep track of the case numbers and the node information (as there might be multiple nodule listings for some patients in annotations.csv)\n",
    "* node information is an (x,y,z) coordinate in mm using a coordinate system defined in the .mhd file"
   ]
  },
  {
   "cell_type": "code",
   "execution_count": 3,
   "metadata": {
    "collapsed": false
   },
   "outputs": [
    {
     "name": "stderr",
     "output_type": "stream",
     "text": [
      "100%|█████████████████████████████████████████████████████████████████| 10000000/10000000 [00:03<00:00, 2974410.93it/s]\n"
     ]
    }
   ],
   "source": [
    "from tqdm import tqdm # will tqdm slow down the program significantly? if not then use it\n",
    "for i in tqdm(range(10000000)):\n",
    "    pass"
   ]
  },
  {
   "cell_type": "code",
   "execution_count": 1,
   "metadata": {
    "collapsed": false,
    "scrolled": false
   },
   "outputs": [],
   "source": [
    "import SimpleITK as sitk\n",
    "import numpy as np\n",
    "import csv\n",
    "from glob import glob\n",
    "import pandas as pd\n",
    "\n",
    "# path constants\n",
    "LUNA_DATA_PATH = '../../../../data/luna16/'\n",
    "LUNA_SUBSET_PATH = LUNA_DATA_PATH + 'subset0/'\n",
    "\n",
    "file_list = glob(LUNA_SUBSET_PATH + \"*.mhd\") # get all the mhd image files\n",
    "\n",
    "# Helper function to get rows in data frame associated with each file\n",
    "def get_filename(case):\n",
    "    global file_list\n",
    "    for f in file_list: # for every file in the list if the seriesuid is in the file name, return the file \n",
    "        if case in f:\n",
    "            return(f)\n",
    "\n",
    "# The locations of the nodes\n",
    "df_node = pd.read_csv(LUNA_DATA_PATH + \"annotations.csv\")\n",
    "df_node[\"file\"] = df_node[\"seriesuid\"].apply(get_filename) # for every rowsave file name to the 'file' column of the row\n",
    "df_node = df_node.dropna() # if the seriesuid is not found in this subset, drop all the rows that have na as values for 'file' column"
   ]
  },
  {
   "cell_type": "code",
   "execution_count": 2,
   "metadata": {
    "collapsed": false
   },
   "outputs": [
    {
     "name": "stdout",
     "output_type": "stream",
     "text": [
      "Image (0000020565410830)\n",
      "  RTTI typeinfo:   class itk::Image<short,3>\n",
      "  Reference Count: 1\n",
      "  Modified Time: 1060\n",
      "  Debug: Off\n",
      "  Object Name: \n",
      "  Observers: \n",
      "    none\n",
      "  Source: (none)\n",
      "  Source output name: (none)\n",
      "  Release Data: Off\n",
      "  Data Released: False\n",
      "  Global Release Data: Off\n",
      "  PipelineMTime: 1035\n",
      "  UpdateMTime: 1059\n",
      "  RealTimeStamp: 0 seconds \n",
      "  LargestPossibleRegion: \n",
      "    Dimension: 3\n",
      "    Index: [0, 0, 0]\n",
      "    Size: [512, 512, 161]\n",
      "  BufferedRegion: \n",
      "    Dimension: 3\n",
      "    Index: [0, 0, 0]\n",
      "    Size: [512, 512, 161]\n",
      "  RequestedRegion: \n",
      "    Dimension: 3\n",
      "    Index: [0, 0, 0]\n",
      "    Size: [512, 512, 161]\n",
      "  Spacing: [0.548828, 0.548828, 1.25]\n",
      "  Origin: [-187.7, -108.3, -194]\n",
      "  Direction: \n",
      "1 0 0\n",
      "0 1 0\n",
      "0 0 1\n",
      "\n",
      "  IndexToPointMatrix: \n",
      "0.548828 0 0\n",
      "0 0.548828 0\n",
      "0 0 1.25\n",
      "\n",
      "  PointToIndexMatrix: \n",
      "1.82206 0 0\n",
      "0 1.82206 0\n",
      "0 0 0.8\n",
      "\n",
      "  Inverse Direction: \n",
      "1 0 0\n",
      "0 1 0\n",
      "0 0 1\n",
      "\n",
      "  PixelContainer: \n",
      "    ImportImageContainer (0000020566A52320)\n",
      "      RTTI typeinfo:   class itk::ImportImageContainer<unsigned __int64,short>\n",
      "      Reference Count: 1\n",
      "      Modified Time: 1056\n",
      "      Debug: Off\n",
      "      Object Name: \n",
      "      Observers: \n",
      "        none\n",
      "      Pointer: 0000020567E78040\n",
      "      Container manages memory: true\n",
      "      Size: 42205184\n",
      "      Capacity: 42205184\n",
      "\n"
     ]
    }
   ],
   "source": [
    "img_file = file_list[2] # using only file_list[2] as example in rest of code\n",
    "itk_img = sitk.ReadImage(img_file) # using sitk to read a .mhd image\n",
    "print(itk_img)"
   ]
  },
  {
   "cell_type": "code",
   "execution_count": 3,
   "metadata": {
    "collapsed": false
   },
   "outputs": [
    {
     "name": "stdout",
     "output_type": "stream",
     "text": [
      "[[[-3024 -3024 -3024 ..., -3024 -3024 -3024]\n",
      "  [-3024 -3024 -3024 ..., -3024 -3024 -3024]\n",
      "  [-3024 -3024 -3024 ..., -3024 -3024 -3024]\n",
      "  ..., \n",
      "  [-3024 -3024 -3024 ..., -3024 -3024 -3024]\n",
      "  [-3024 -3024 -3024 ..., -3024 -3024 -3024]\n",
      "  [-3024 -3024 -3024 ..., -3024 -3024 -3024]]\n",
      "\n",
      " [[-3024 -3024 -3024 ..., -3024 -3024 -3024]\n",
      "  [-3024 -3024 -3024 ..., -3024 -3024 -3024]\n",
      "  [-3024 -3024 -3024 ..., -3024 -3024 -3024]\n",
      "  ..., \n",
      "  [-3024 -3024 -3024 ..., -3024 -3024 -3024]\n",
      "  [-3024 -3024 -3024 ..., -3024 -3024 -3024]\n",
      "  [-3024 -3024 -3024 ..., -3024 -3024 -3024]]\n",
      "\n",
      " [[-3024 -3024 -3024 ..., -3024 -3024 -3024]\n",
      "  [-3024 -3024 -3024 ..., -3024 -3024 -3024]\n",
      "  [-3024 -3024 -3024 ..., -3024 -3024 -3024]\n",
      "  ..., \n",
      "  [-3024 -3024 -3024 ..., -3024 -3024 -3024]\n",
      "  [-3024 -3024 -3024 ..., -3024 -3024 -3024]\n",
      "  [-3024 -3024 -3024 ..., -3024 -3024 -3024]]\n",
      "\n",
      " ..., \n",
      " [[-3024 -3024 -3024 ..., -3024 -3024 -3024]\n",
      "  [-3024 -3024 -3024 ..., -3024 -3024 -3024]\n",
      "  [-3024 -3024 -3024 ..., -3024 -3024 -3024]\n",
      "  ..., \n",
      "  [-3024 -3024 -3024 ..., -3024 -3024 -3024]\n",
      "  [-3024 -3024 -3024 ..., -3024 -3024 -3024]\n",
      "  [-3024 -3024 -3024 ..., -3024 -3024 -3024]]\n",
      "\n",
      " [[-3024 -3024 -3024 ..., -3024 -3024 -3024]\n",
      "  [-3024 -3024 -3024 ..., -3024 -3024 -3024]\n",
      "  [-3024 -3024 -3024 ..., -3024 -3024 -3024]\n",
      "  ..., \n",
      "  [-3024 -3024 -3024 ..., -3024 -3024 -3024]\n",
      "  [-3024 -3024 -3024 ..., -3024 -3024 -3024]\n",
      "  [-3024 -3024 -3024 ..., -3024 -3024 -3024]]\n",
      "\n",
      " [[-3024 -3024 -3024 ..., -3024 -3024 -3024]\n",
      "  [-3024 -3024 -3024 ..., -3024 -3024 -3024]\n",
      "  [-3024 -3024 -3024 ..., -3024 -3024 -3024]\n",
      "  ..., \n",
      "  [-3024 -3024 -3024 ..., -3024 -3024 -3024]\n",
      "  [-3024 -3024 -3024 ..., -3024 -3024 -3024]\n",
      "  [-3024 -3024 -3024 ..., -3024 -3024 -3024]]]\n"
     ]
    }
   ],
   "source": [
    "# get the associated 3d pixel array for the .mhd image\n",
    "img_array = sitk.GetArrayFromImage(itk_img) # indexes are z,y,x (notice the ordering)\n",
    "print(img_array)"
   ]
  },
  {
   "cell_type": "code",
   "execution_count": 4,
   "metadata": {
    "collapsed": false
   },
   "outputs": [
    {
     "name": "stdout",
     "output_type": "stream",
     "text": [
      "161\n",
      "512\n",
      "512\n",
      "[-187.699997 -108.300003 -194.      ]\n",
      "[ 0.54882801  0.54882801  1.25      ]\n"
     ]
    }
   ],
   "source": [
    "num_z, height, width = img_array.shape\n",
    "origin = np.array(itk_img.GetOrigin())      # x,y,z Origin in world coordinates (mm)\n",
    "spacing = np.array(itk_img.GetSpacing())    # spacing of voxels in world coordinates (mm)\n",
    "print(num_z)\n",
    "print(height)\n",
    "print(width)\n",
    "print(origin)\n",
    "print(spacing)"
   ]
  },
  {
   "cell_type": "code",
   "execution_count": 5,
   "metadata": {
    "collapsed": false
   },
   "outputs": [
    {
     "name": "stdout",
     "output_type": "stream",
     "text": [
      "                                            seriesuid     coordX     coordY  \\\n",
      "25  1.3.6.1.4.1.14519.5.2.1.6279.6001.109002525524...  46.188539  48.402806   \n",
      "26  1.3.6.1.4.1.14519.5.2.1.6279.6001.109002525524...  36.392044  76.771663   \n",
      "\n",
      "        coordZ  diameter_mm                                               file  \n",
      "25 -108.578632    13.596471  ../../../../data/luna16/subset0\\1.3.6.1.4.1.14...  \n",
      "26 -123.321911     4.343200  ../../../../data/luna16/subset0\\1.3.6.1.4.1.14...  \n",
      "\n",
      "\n",
      "25\n",
      "seriesuid      1.3.6.1.4.1.14519.5.2.1.6279.6001.109002525524...\n",
      "coordX                                                   46.1885\n",
      "coordY                                                   48.4028\n",
      "coordZ                                                  -108.579\n",
      "diameter_mm                                              13.5965\n",
      "file           ../../../../data/luna16/subset0\\1.3.6.1.4.1.14...\n",
      "Name: 25, dtype: object\n",
      "26\n",
      "seriesuid      1.3.6.1.4.1.14519.5.2.1.6279.6001.109002525524...\n",
      "coordX                                                    36.392\n",
      "coordY                                                   76.7717\n",
      "coordZ                                                  -123.322\n",
      "diameter_mm                                               4.3432\n",
      "file           ../../../../data/luna16/subset0\\1.3.6.1.4.1.14...\n",
      "Name: 26, dtype: object\n"
     ]
    }
   ],
   "source": [
    "mini_df = df_node[df_node[\"file\"]==file_list[2]] # get all nodules associate with file\n",
    "print(mini_df)\n",
    "print('\\n')\n",
    "for node_idx, cur_row in mini_df.iterrows(): # .iterrows() generates (indices, row)\n",
    "    print(node_idx)\n",
    "    print(cur_row)"
   ]
  },
  {
   "cell_type": "code",
   "execution_count": 6,
   "metadata": {
    "collapsed": false
   },
   "outputs": [
    {
     "name": "stdout",
     "output_type": "stream",
     "text": [
      "46.18853869\n",
      "48.40280596\n",
      "-108.5786324\n",
      "13.59647134\n",
      "[[[ 0.  0.  0. ...,  0.  0.  0.]\n",
      "  [ 0.  0.  0. ...,  0.  0.  0.]\n",
      "  [ 0.  0.  0. ...,  0.  0.  0.]\n",
      "  ..., \n",
      "  [ 0.  0.  0. ...,  0.  0.  0.]\n",
      "  [ 0.  0.  0. ...,  0.  0.  0.]\n",
      "  [ 0.  0.  0. ...,  0.  0.  0.]]\n",
      "\n",
      " [[ 0.  0.  0. ...,  0.  0.  0.]\n",
      "  [ 0.  0.  0. ...,  0.  0.  0.]\n",
      "  [ 0.  0.  0. ...,  0.  0.  0.]\n",
      "  ..., \n",
      "  [ 0.  0.  0. ...,  0.  0.  0.]\n",
      "  [ 0.  0.  0. ...,  0.  0.  0.]\n",
      "  [ 0.  0.  0. ...,  0.  0.  0.]]\n",
      "\n",
      " [[ 0.  0.  0. ...,  0.  0.  0.]\n",
      "  [ 0.  0.  0. ...,  0.  0.  0.]\n",
      "  [ 0.  0.  0. ...,  0.  0.  0.]\n",
      "  ..., \n",
      "  [ 0.  0.  0. ...,  0.  0.  0.]\n",
      "  [ 0.  0.  0. ...,  0.  0.  0.]\n",
      "  [ 0.  0.  0. ...,  0.  0.  0.]]]\n",
      "[[[80  1 26 ...,  0  0  0]\n",
      "  [ 0  0  0 ...,  0  0  0]\n",
      "  [ 0  0  0 ...,  0  0  0]\n",
      "  ..., \n",
      "  [ 0  0  0 ...,  0  0  0]\n",
      "  [ 0  0  0 ...,  0  0  0]\n",
      "  [ 0  0  0 ...,  0  0  0]]\n",
      "\n",
      " [[ 0  0  0 ...,  0  0  0]\n",
      "  [ 0  0  0 ...,  0  0  0]\n",
      "  [ 0  0  0 ...,  0  0  0]\n",
      "  ..., \n",
      "  [ 0  0  0 ...,  0  0  0]\n",
      "  [ 0  0  0 ...,  0  0  0]\n",
      "  [ 0  0  0 ...,  0  0  0]]\n",
      "\n",
      " [[ 0  0  0 ...,  0  0  0]\n",
      "  [ 0  0  0 ...,  0  0  0]\n",
      "  [ 0  0  0 ...,  0  0  0]\n",
      "  ..., \n",
      "  [ 0  0  0 ...,  0  0  0]\n",
      "  [ 0  0  0 ...,  0  0  0]\n",
      "  [ 0  0  0 ...,  0  0  0]]]\n",
      "[  46.18853869   48.40280596 -108.5786324 ]\n",
      "[ 426.  286.   68.]\n"
     ]
    }
   ],
   "source": [
    "for node_idx, cur_row in mini_df.iterrows():\n",
    "    node_x = cur_row[\"coordX\"]\n",
    "    node_y = cur_row[\"coordY\"]\n",
    "    node_z = cur_row[\"coordZ\"]\n",
    "    diam = cur_row[\"diameter_mm\"]\n",
    "    print(node_x)\n",
    "    print(node_y)\n",
    "    print(node_z)\n",
    "    print(diam)\n",
    "    \n",
    "    # just keep 3 slices\n",
    "    imgs = np.ndarray([3,height,width],dtype=np.float32) # merely defining the final product\n",
    "    masks = np.ndarray([3,height,width],dtype=np.uint8) # note the random array (it will be overwritten)\n",
    "    center = np.array([node_x, node_y, node_z])   # nodule center\n",
    "    v_center = np.rint((center-origin)/spacing)  # nodule center in voxel space (still x,y,z ordering)\n",
    "    print(imgs)\n",
    "    print(masks)\n",
    "    print(center)\n",
    "    print(v_center)\n",
    "    break # only do it for the first node"
   ]
  },
  {
   "cell_type": "code",
   "execution_count": 7,
   "metadata": {
    "collapsed": false
   },
   "outputs": [
    {
     "name": "stdout",
     "output_type": "stream",
     "text": [
      "68.0\n",
      "67.0\n",
      "70.0\n",
      "0\n",
      "67\n",
      "1\n",
      "68\n",
      "2\n",
      "69\n"
     ]
    }
   ],
   "source": [
    "print(v_center[2]) # the slice at which the center of the nodule is located\n",
    "print(v_center[2]-1) # one slice below\n",
    "# center will never be at the bottom so a clip is not needed\n",
    "print(v_center[2]+2) # two slices above\n",
    "# clip needed because you could go over the total number of slices\n",
    "for i, i_z in enumerate(np.arange(int(v_center[2])-1,\n",
    "                             int(v_center[2])+2).clip(0, num_z-1)): # clip prevents going out of bounds in Z\n",
    "    print(i)\n",
    "    print(i_z)"
   ]
  },
  {
   "cell_type": "code",
   "execution_count": 8,
   "metadata": {
    "collapsed": false
   },
   "outputs": [
    {
     "name": "stdout",
     "output_type": "stream",
     "text": [
      "[  46.18853869   48.40280596 -108.5786324 ]\n",
      "13.59647134\n",
      "-110.25\n",
      "512\n",
      "512\n",
      "[ 0.54882801  0.54882801  1.25      ]\n",
      "[-187.699997 -108.300003 -194.      ]\n"
     ]
    }
   ],
   "source": [
    "# mask = make_mask(center, diam, i_z*spacing[2]+origin[2], width, height, spacing, origin)\n",
    "i = 0\n",
    "i_z = 67\n",
    "print(center) # center comes in real world coordinates, using spacing and origin will convert it to voxel (in terms of the image)\n",
    "print(diam)\n",
    "print(i_z*spacing[2]+origin[2])\n",
    "print(width)\n",
    "print(height)\n",
    "print(spacing)\n",
    "print(origin)"
   ]
  },
  {
   "cell_type": "code",
   "execution_count": null,
   "metadata": {
    "collapsed": true
   },
   "outputs": [],
   "source": [
    "def make_mask(center,diam,z,width,height,spacing,origin):\n",
    "    '''\n",
    "Center : centers of circles px -- list of coordinates x,y,z\n",
    "diam : diameters of circles px -- diameter\n",
    "widthXheight : pixel dim of image\n",
    "spacing = mm/px conversion rate np array x,y,z\n",
    "origin = x,y,z mm np.array\n",
    "z = z position of slice in world coordinates mm\n",
    "    '''\n",
    "    mask = np.zeros([height,width]) # 0's everywhere except nodule swapping x,y to match img\n",
    "    #convert to nodule space from world coordinates\n",
    "\n",
    "    # Defining the voxel range in which the nodule falls\n",
    "    # since everything comes in real world coordinates, you need to convert to voxel to be able to work with the pixels\n",
    "    v_center = (center-origin)/spacing\n",
    "    v_diam = int(diam/spacing[0]+5) # increase diameter by 5 to get pixels around nodule\n",
    "    # the question is why not just add 10 to v_diam and avoid doing the stuff below (with the -5 and +5?)\n",
    "    v_xmin = np.max([0,int(v_center[0]-v_diam)-5]) # subtract 5 again so now the radius is diam + 10\n",
    "    v_xmax = np.min([width-1,int(v_center[0]+v_diam)+5])\n",
    "    v_ymin = np.max([0,int(v_center[1]-v_diam)-5]) \n",
    "    v_ymax = np.min([height-1,int(v_center[1]+v_diam)+5])\n",
    "    # we don't want just the pixels of the nodule, we want the pixels around it as well to be able to identify it\n",
    "    # these are calculations using the voxel coordinates, and they always have bigger spacing compared to real world spacing\n",
    "    \n",
    "    v_xrange = range(v_xmin,v_xmax+1) # why add 1?\n",
    "    v_yrange = range(v_ymin,v_ymax+1) # add 1 because you are using it as a range attribute (if you don't add 1 then you will not be able to get the last pixel in the range due to the way range works)\n",
    "\n",
    "    # this part of the code is not used anywhere else\n",
    "    # Convert back to world coordinates for distance calculation\n",
    "    # x_data = [x*spacing[0]+origin[0] for x in range(width)]\n",
    "    # y_data = [x*spacing[1]+origin[1] for x in range(height)]\n",
    "\n",
    "    # the range at this point contains a lot more than just what is within the diameter (since the voxel coord>real coord) \n",
    "    # so this first narrows down which ones are within the diameter, then makes them 1\n",
    "    # Fill in 1 within sphere around nodule\n",
    "    for v_x in v_xrange:\n",
    "        for v_y in v_yrange:\n",
    "            p_x = spacing[0]*v_x + origin[0] # change to real world coordinates\n",
    "            p_y = spacing[1]*v_y + origin[1]\n",
    "            # linalg compares all 3 values and if any of them are not <= it is false\n",
    "            # compare the real world coordinates to see if pixel lies within diameter\n",
    "            if np.linalg.norm(center-np.array([p_x,p_y,z]))<=diam: # if this is true, it is within the radius so set it equal to 1\n",
    "                # convert the real world back to voxel coordinates to save 1 as value\n",
    "                mask[int((p_y-origin[1])/spacing[1]),int((p_x-origin[0])/spacing[0])] = 1.0 # this is the coordinate of the pixel in the mask\n",
    "    # this will run through all the likely pixels, and make the ones that are within 1 diameter of the center of the nodule 1 \n",
    "    # creates a black and white mask where 1 is where the nodule is\n",
    "    return(mask)"
   ]
  },
  {
   "cell_type": "code",
   "execution_count": 9,
   "metadata": {
    "collapsed": true
   },
   "outputs": [],
   "source": [
    "x_data = [x*spacing[0]+origin[0] for x in range(width)]"
   ]
  },
  {
   "cell_type": "code",
   "execution_count": 10,
   "metadata": {
    "collapsed": false
   },
   "outputs": [
    {
     "name": "stdout",
     "output_type": "stream",
     "text": [
      "[-187.699997, -187.15116899420929, -186.60234098841858, -186.05351298262786, -185.50468497683715, -184.95585697104644, -184.40702896525573, -183.85820095946502, -183.30937295367431, -182.7605449478836, -182.21171694209289, -181.66288893630218, -181.11406093051147, -180.56523292472076, -180.01640491893005, -179.46757691313934, -178.91874890734863, -178.36992090155792, -177.82109289576721, -177.2722648899765, -176.72343688418579, -176.17460887839508, -175.62578087260437, -175.07695286681366, -174.52812486102295, -173.97929685523223, -173.43046884944152, -172.88164084365081, -172.3328128378601, -171.78398483206939, -171.23515682627868, -170.68632882048797, -170.13750081469726, -169.58867280890655, -169.03984480311584, -168.49101679732513, -167.94218879153442, -167.39336078574371, -166.844532779953, -166.29570477416229, -165.74687676837158, -165.19804876258087, -164.64922075679016, -164.10039275099945, -163.55156474520874, -163.00273673941803, -162.45390873362732, -161.90508072783661, -161.35625272204589, -160.80742471625518, -160.25859671046447, -159.70976870467376, -159.16094069888305, -158.61211269309234, -158.06328468730163, -157.51445668151092, -156.96562867572021, -156.4168006699295, -155.86797266413879, -155.31914465834808, -154.77031665255737, -154.22148864676666, -153.67266064097595, -153.12383263518524, -152.57500462939453, -152.02617662360382, -151.47734861781311, -150.9285206120224, -150.37969260623169, -149.83086460044098, -149.28203659465026, -148.73320858885955, -148.18438058306884, -147.63555257727813, -147.08672457148742, -146.53789656569671, -145.989068559906, -145.44024055411529, -144.89141254832458, -144.34258454253387, -143.79375653674316, -143.24492853095245, -142.69610052516174, -142.14727251937103, -141.59844451358032, -141.04961650778961, -140.5007885019989, -139.95196049620819, -139.40313249041748, -138.85430448462677, -138.30547647883606, -137.75664847304535, -137.20782046725463, -136.65899246146392, -136.11016445567321, -135.5613364498825, -135.01250844409179, -134.46368043830108, -133.91485243251037, -133.36602442671966, -132.81719642092895, -132.26836841513824, -131.71954040934753, -131.17071240355682, -130.62188439776611, -130.0730563919754, -129.52422838618469, -128.97540038039398, -128.42657237460327, -127.87774436881256, -127.32891636302185, -126.78008835723114, -126.23126035144043, -125.68243234564972, -125.133604339859, -124.58477633406829, -124.03594832827758, -123.48712032248687, -122.93829231669616, -122.38946431090545, -121.84063630511474, -121.29180829932403, -120.74298029353332, -120.19415228774261, -119.6453242819519, -119.09649627616119, -118.54766827037048, -117.99884026457977, -117.45001225878906, -116.90118425299835, -116.35235624720764, -115.80352824141693, -115.25470023562622, -114.70587222983551, -114.1570442240448, -113.60821621825409, -113.05938821246338, -112.51056020667266, -111.96173220088195, -111.41290419509124, -110.86407618930053, -110.31524818350982, -109.76642017771911, -109.2175921719284, -108.66876416613769, -108.11993616034698, -107.57110815455627, -107.02228014876556, -106.47345214297485, -105.92462413718414, -105.37579613139343, -104.82696812560272, -104.27814011981201, -103.7293121140213, -103.18048410823059, -102.63165610243988, -102.08282809664917, -101.53400009085846, -100.98517208506775, -100.43634407927703, -99.887516073486324, -99.338688067695614, -98.789860061904903, -98.241032056114193, -97.692204050323483, -97.143376044532772, -96.594548038742062, -96.045720032951351, -95.496892027160641, -94.94806402136993, -94.39923601557922, -93.850408009788509, -93.301580003997799, -92.752751998207088, -92.203923992416378, -91.655095986625668, -91.106267980834957, -90.557439975044247, -90.008611969253536, -89.459783963462826, -88.910955957672115, -88.362127951881405, -87.813299946090694, -87.264471940299984, -86.715643934509274, -86.166815928718563, -85.617987922927853, -85.069159917137142, -84.520331911346432, -83.971503905555721, -83.422675899765011, -82.8738478939743, -82.32501988818359, -81.77619188239288, -81.227363876602169, -80.678535870811459, -80.129707865020748, -79.580879859230038, -79.032051853439327, -78.483223847648617, -77.934395841857906, -77.385567836067196, -76.836739830276485, -76.287911824485775, -75.739083818695065, -75.190255812904354, -74.641427807113644, -74.092599801322933, -73.543771795532223, -72.994943789741512, -72.446115783950802, -71.897287778160091, -71.348459772369381, -70.799631766578671, -70.25080376078796, -69.70197575499725, -69.153147749206539, -68.604319743415829, -68.055491737625118, -67.506663731834408, -66.957835726043697, -66.409007720252987, -65.860179714462276, -65.311351708671566, -64.762523702880856, -64.213695697090145, -63.664867691299435, -63.116039685508724, -62.567211679718014, -62.018383673927303, -61.469555668136593, -60.920727662345882, -60.371899656555172, -59.823071650764462, -59.274243644973751, -58.725415639183041, -58.17658763339233, -57.62775962760162, -57.078931621810909, -56.530103616020199, -55.981275610229488, -55.432447604438778, -54.883619598648067, -54.334791592857357, -53.785963587066647, -53.237135581275936, -52.688307575485226, -52.139479569694515, -51.590651563903805, -51.041823558113094, -50.492995552322384, -49.944167546531673, -49.395339540740963, -48.846511534950253, -48.297683529159542, -47.748855523368832, -47.200027517578121, -46.651199511787411, -46.1023715059967, -45.55354350020599, -45.004715494415279, -44.455887488624569, -43.907059482833859, -43.358231477043148, -42.809403471252438, -42.260575465461727, -41.711747459671017, -41.162919453880306, -40.614091448089596, -40.065263442298885, -39.516435436508175, -38.967607430717464, -38.418779424926754, -37.869951419136044, -37.321123413345333, -36.772295407554623, -36.223467401763912, -35.674639395973202, -35.125811390182491, -34.576983384391781, -34.02815537860107, -33.47932737281036, -32.93049936701965, -32.381671361228939, -31.832843355438229, -31.284015349647518, -30.735187343856808, -30.186359338066097, -29.637531332275387, -29.088703326484676, -28.539875320693966, -27.991047314903255, -27.442219309112545, -26.893391303321835, -26.344563297531124, -25.795735291740414, -25.246907285949703, -24.698079280158993, -24.149251274368282, -23.600423268577572, -23.051595262786861, -22.502767256996151, -21.953939251205441, -21.40511124541473, -20.85628323962402, -20.307455233833309, -19.758627228042599, -19.209799222251888, -18.660971216461178, -18.112143210670467, -17.563315204879757, -17.014487199089046, -16.465659193298336, -15.916831187507626, -15.368003181716915, -14.819175175926205, -14.270347170135494, -13.721519164344784, -13.172691158554073, -12.623863152763363, -12.075035146972652, -11.526207141181942, -10.977379135391232, -10.428551129600521, -9.8797231238098107, -9.3308951180191002, -8.7820671122283898, -8.2332391064376793, -7.6844111006469689, -7.1355830948562584, -6.586755089065548, -6.0379270832748375, -5.4890990774841271, -4.9402710716934166, -4.3914430659027062, -3.8426150601119957, -3.2937870543212853, -2.7449590485305748, -2.1961310427398644, -1.6473030369491539, -1.0984750311584435, -0.54964702536773302, -0.00081901957702257278, 0.54800898621368788, 1.0968369920043983, 1.6456649977951088, 2.1944930035858192, 2.7433210093765297, 3.2921490151672401, 3.8409770209579506, 4.389805026748661, 4.9386330325393715, 5.4874610383300819, 6.0362890441207924, 6.5851170499115028, 7.1339450557022133, 7.6827730614929237, 8.2316010672836342, 8.7804290730743446, 9.3292570788650551, 9.8780850846557655, 10.426913090446476, 10.975741096237186, 11.524569102027897, 12.073397107818607, 12.622225113609318, 13.171053119400028, 13.719881125190739, 14.268709130981449, 14.81753713677216, 15.36636514256287, 15.91519314835358, 16.464021154144291, 17.012849159935001, 17.561677165725712, 18.110505171516422, 18.659333177307133, 19.208161183097843, 19.756989188888554, 20.305817194679264, 20.854645200469974, 21.403473206260685, 21.952301212051395, 22.501129217842106, 23.049957223632816, 23.598785229423527, 24.147613235214237, 24.696441241004948, 25.245269246795658, 25.794097252586369, 26.342925258377079, 26.891753264167789, 27.4405812699585, 27.98940927574921, 28.538237281539921, 29.087065287330631, 29.635893293121342, 30.184721298912052, 30.733549304702763, 31.282377310493473, 31.831205316284183, 32.380033322074894, 32.928861327865604, 33.477689333656315, 34.026517339447025, 34.575345345237736, 35.124173351028446, 35.673001356819157, 36.221829362609867, 36.770657368400578, 37.319485374191288, 37.868313379981998, 38.417141385772709, 38.965969391563419, 39.51479739735413, 40.06362540314484, 40.612453408935551, 41.161281414726261, 41.710109420516972, 42.258937426307682, 42.807765432098392, 43.356593437889103, 43.905421443679813, 44.454249449470524, 45.003077455261234, 45.551905461051945, 46.100733466842655, 46.649561472633366, 47.198389478424076, 47.747217484214787, 48.296045490005497, 48.844873495796207, 49.393701501586918, 49.942529507377628, 50.491357513168339, 51.040185518959049, 51.58901352474976, 52.13784153054047, 52.686669536331181, 53.235497542121891, 53.784325547912601, 54.333153553703312, 54.881981559494022, 55.430809565284733, 55.979637571075443, 56.528465576866154, 57.077293582656864, 57.626121588447575, 58.174949594238285, 58.723777600028995, 59.272605605819706, 59.821433611610416, 60.370261617401127, 60.919089623191837, 61.467917628982548, 62.016745634773258, 62.565573640563969, 63.114401646354679, 63.66322965214539, 64.2120576579361, 64.76088566372681, 65.309713669517521, 65.858541675308231, 66.407369681098942, 66.956197686889652, 67.505025692680363, 68.053853698471073, 68.602681704261784, 69.151509710052494, 69.700337715843204, 70.249165721633915, 70.797993727424625, 71.346821733215336, 71.895649739006046, 72.444477744796757, 72.993305750587467, 73.542133756378178, 74.090961762168888, 74.639789767959599, 75.188617773750309, 75.737445779541019, 76.28627378533173, 76.83510179112244, 77.383929796913151, 77.932757802703861, 78.481585808494572, 79.030413814285282, 79.579241820075993, 80.128069825866703, 80.676897831657413, 81.225725837448124, 81.774553843238834, 82.323381849029545, 82.872209854820255, 83.421037860610966, 83.969865866401676, 84.518693872192387, 85.067521877983097, 85.616349883773808, 86.165177889564518, 86.714005895355228, 87.262833901145939, 87.811661906936649, 88.36048991272736, 88.90931791851807, 89.458145924308781, 90.006973930099491, 90.555801935890202, 91.104629941680912, 91.653457947471622, 92.202285953262333, 92.751113959053043]\n"
     ]
    }
   ],
   "source": [
    "print(x_data)"
   ]
  },
  {
   "cell_type": "code",
   "execution_count": null,
   "metadata": {
    "collapsed": true
   },
   "outputs": [],
   "source": []
  }
 ],
 "metadata": {
  "kernelspec": {
   "display_name": "Python 3",
   "language": "python",
   "name": "python3"
  },
  "language_info": {
   "codemirror_mode": {
    "name": "ipython",
    "version": 3
   },
   "file_extension": ".py",
   "mimetype": "text/x-python",
   "name": "python",
   "nbconvert_exporter": "python",
   "pygments_lexer": "ipython3",
   "version": "3.5.2"
  }
 },
 "nbformat": 4,
 "nbformat_minor": 2
}

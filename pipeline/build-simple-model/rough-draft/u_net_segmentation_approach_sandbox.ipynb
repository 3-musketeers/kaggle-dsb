{
 "cells": [
  {
   "cell_type": "code",
   "execution_count": 1,
   "metadata": {
    "collapsed": false,
    "scrolled": false
   },
   "outputs": [
    {
     "name": "stdout",
     "output_type": "stream",
     "text": [
      "                                            seriesuid     coordX     coordY  \\\n",
      "25  1.3.6.1.4.1.14519.5.2.1.6279.6001.109002525524...  46.188539  48.402806   \n",
      "26  1.3.6.1.4.1.14519.5.2.1.6279.6001.109002525524...  36.392044  76.771663   \n",
      "\n",
      "        coordZ  diameter_mm                                               file  \n",
      "25 -108.578632    13.596471  ../../../../data/luna16/subset0\\1.3.6.1.4.1.14...  \n",
      "26 -123.321911     4.343200  ../../../../data/luna16/subset0\\1.3.6.1.4.1.14...  \n",
      "\n",
      "\n",
      "[ 13.59647134   4.34319974]\n",
      "\n",
      "\n",
      "[1 0]\n",
      "\n",
      "\n",
      "0\n"
     ]
    }
   ],
   "source": [
    "import SimpleITK as sitk\n",
    "import numpy as np\n",
    "import csv\n",
    "from glob import glob\n",
    "import pandas as pd\n",
    "\n",
    "# path constants\n",
    "LUNA_DATA_PATH = '../../../../data/luna16/'\n",
    "LUNA_SUBSET_PATH = LUNA_DATA_PATH + 'subset0/'\n",
    "\n",
    "file_list = glob(LUNA_SUBSET_PATH + \"*.mhd\") # get all the mhd image files\n",
    "\n",
    "# Helper function to get rows in data frame associated with each file\n",
    "def get_filename(case):\n",
    "    global file_list\n",
    "    for f in file_list: # for every file in the list if the seriesuid is in the file name, return the file \n",
    "        if case in f:\n",
    "            return(f)\n",
    "\n",
    "# The locations of the nodes\n",
    "df_node = pd.read_csv(LUNA_DATA_PATH + \"annotations.csv\")\n",
    "df_node[\"file\"] = df_node[\"seriesuid\"].apply(get_filename) # for every rowsave file name to the 'file' column of the row\n",
    "df_node = df_node.dropna() # if the seriesuid is not found in this subset, drop all the rows that have na as values for 'file' column\n",
    "\n",
    "\n",
    "mini_df = df_node[df_node[\"file\"]==file_list[2]]\n",
    "print(mini_df)\n",
    "print('\\n')\n",
    "print(mini_df[\"diameter_mm\"].values)\n",
    "print('\\n')\n",
    "print(np.argsort(mini_df[\"diameter_mm\"].values))\n",
    "print('\\n')\n",
    "print(np.argsort(mini_df[\"diameter_mm\"].values)[-1])"
   ]
  },
  {
   "cell_type": "code",
   "execution_count": 2,
   "metadata": {
    "collapsed": false
   },
   "outputs": [
    {
     "name": "stdout",
     "output_type": "stream",
     "text": [
      "Image (00000214B1B0DA50)\n",
      "  RTTI typeinfo:   class itk::Image<short,3>\n",
      "  Reference Count: 1\n",
      "  Modified Time: 1060\n",
      "  Debug: Off\n",
      "  Object Name: \n",
      "  Observers: \n",
      "    none\n",
      "  Source: (none)\n",
      "  Source output name: (none)\n",
      "  Release Data: Off\n",
      "  Data Released: False\n",
      "  Global Release Data: Off\n",
      "  PipelineMTime: 1035\n",
      "  UpdateMTime: 1059\n",
      "  RealTimeStamp: 0 seconds \n",
      "  LargestPossibleRegion: \n",
      "    Dimension: 3\n",
      "    Index: [0, 0, 0]\n",
      "    Size: [512, 512, 161]\n",
      "  BufferedRegion: \n",
      "    Dimension: 3\n",
      "    Index: [0, 0, 0]\n",
      "    Size: [512, 512, 161]\n",
      "  RequestedRegion: \n",
      "    Dimension: 3\n",
      "    Index: [0, 0, 0]\n",
      "    Size: [512, 512, 161]\n",
      "  Spacing: [0.548828, 0.548828, 1.25]\n",
      "  Origin: [-187.7, -108.3, -194]\n",
      "  Direction: \n",
      "1 0 0\n",
      "0 1 0\n",
      "0 0 1\n",
      "\n",
      "  IndexToPointMatrix: \n",
      "0.548828 0 0\n",
      "0 0.548828 0\n",
      "0 0 1.25\n",
      "\n",
      "  PointToIndexMatrix: \n",
      "1.82206 0 0\n",
      "0 1.82206 0\n",
      "0 0 0.8\n",
      "\n",
      "  Inverse Direction: \n",
      "1 0 0\n",
      "0 1 0\n",
      "0 0 1\n",
      "\n",
      "  PixelContainer: \n",
      "    ImportImageContainer (00000214B1C224D0)\n",
      "      RTTI typeinfo:   class itk::ImportImageContainer<unsigned __int64,short>\n",
      "      Reference Count: 1\n",
      "      Modified Time: 1056\n",
      "      Debug: Off\n",
      "      Object Name: \n",
      "      Observers: \n",
      "        none\n",
      "      Pointer: 00000214B2F8D040\n",
      "      Container manages memory: true\n",
      "      Size: 42205184\n",
      "      Capacity: 42205184\n",
      "\n"
     ]
    }
   ],
   "source": [
    "img_file = file_list[2]\n",
    "itk_img = sitk.ReadImage(img_file) \n",
    "print(itk_img)"
   ]
  },
  {
   "cell_type": "code",
   "execution_count": 3,
   "metadata": {
    "collapsed": false
   },
   "outputs": [
    {
     "name": "stdout",
     "output_type": "stream",
     "text": [
      "[[[-3024 -3024 -3024 ..., -3024 -3024 -3024]\n",
      "  [-3024 -3024 -3024 ..., -3024 -3024 -3024]\n",
      "  [-3024 -3024 -3024 ..., -3024 -3024 -3024]\n",
      "  ..., \n",
      "  [-3024 -3024 -3024 ..., -3024 -3024 -3024]\n",
      "  [-3024 -3024 -3024 ..., -3024 -3024 -3024]\n",
      "  [-3024 -3024 -3024 ..., -3024 -3024 -3024]]\n",
      "\n",
      " [[-3024 -3024 -3024 ..., -3024 -3024 -3024]\n",
      "  [-3024 -3024 -3024 ..., -3024 -3024 -3024]\n",
      "  [-3024 -3024 -3024 ..., -3024 -3024 -3024]\n",
      "  ..., \n",
      "  [-3024 -3024 -3024 ..., -3024 -3024 -3024]\n",
      "  [-3024 -3024 -3024 ..., -3024 -3024 -3024]\n",
      "  [-3024 -3024 -3024 ..., -3024 -3024 -3024]]\n",
      "\n",
      " [[-3024 -3024 -3024 ..., -3024 -3024 -3024]\n",
      "  [-3024 -3024 -3024 ..., -3024 -3024 -3024]\n",
      "  [-3024 -3024 -3024 ..., -3024 -3024 -3024]\n",
      "  ..., \n",
      "  [-3024 -3024 -3024 ..., -3024 -3024 -3024]\n",
      "  [-3024 -3024 -3024 ..., -3024 -3024 -3024]\n",
      "  [-3024 -3024 -3024 ..., -3024 -3024 -3024]]\n",
      "\n",
      " ..., \n",
      " [[-3024 -3024 -3024 ..., -3024 -3024 -3024]\n",
      "  [-3024 -3024 -3024 ..., -3024 -3024 -3024]\n",
      "  [-3024 -3024 -3024 ..., -3024 -3024 -3024]\n",
      "  ..., \n",
      "  [-3024 -3024 -3024 ..., -3024 -3024 -3024]\n",
      "  [-3024 -3024 -3024 ..., -3024 -3024 -3024]\n",
      "  [-3024 -3024 -3024 ..., -3024 -3024 -3024]]\n",
      "\n",
      " [[-3024 -3024 -3024 ..., -3024 -3024 -3024]\n",
      "  [-3024 -3024 -3024 ..., -3024 -3024 -3024]\n",
      "  [-3024 -3024 -3024 ..., -3024 -3024 -3024]\n",
      "  ..., \n",
      "  [-3024 -3024 -3024 ..., -3024 -3024 -3024]\n",
      "  [-3024 -3024 -3024 ..., -3024 -3024 -3024]\n",
      "  [-3024 -3024 -3024 ..., -3024 -3024 -3024]]\n",
      "\n",
      " [[-3024 -3024 -3024 ..., -3024 -3024 -3024]\n",
      "  [-3024 -3024 -3024 ..., -3024 -3024 -3024]\n",
      "  [-3024 -3024 -3024 ..., -3024 -3024 -3024]\n",
      "  ..., \n",
      "  [-3024 -3024 -3024 ..., -3024 -3024 -3024]\n",
      "  [-3024 -3024 -3024 ..., -3024 -3024 -3024]\n",
      "  [-3024 -3024 -3024 ..., -3024 -3024 -3024]]]\n"
     ]
    }
   ],
   "source": [
    "img_array = sitk.GetArrayFromImage(itk_img)\n",
    "print(img_array)"
   ]
  },
  {
   "cell_type": "code",
   "execution_count": 9,
   "metadata": {
    "collapsed": false
   },
   "outputs": [
    {
     "name": "stdout",
     "output_type": "stream",
     "text": [
      "0\n",
      "46.18853869\n",
      "48.40280596\n",
      "-108.5786324\n",
      "13.59647134\n",
      "\n",
      "\n",
      "(-187.699997, -108.300003, -194.0)\n",
      "(0.5488280057907104, 0.5488280057907104, 1.25)\n"
     ]
    }
   ],
   "source": [
    "biggest_node = np.argsort(mini_df[\"diameter_mm\"].values)[-1]\n",
    "node_x = mini_df[\"coordX\"].values[biggest_node]\n",
    "node_y = mini_df[\"coordY\"].values[biggest_node]\n",
    "node_z = mini_df[\"coordZ\"].values[biggest_node]\n",
    "diam = mini_df[\"diameter_mm\"].values[biggest_node]\n",
    "print(biggest_node)\n",
    "print(node_x)\n",
    "print(node_y)\n",
    "print(node_z)\n",
    "print(diam)\n",
    "print('\\n')\n",
    "\n",
    "center = np.array([node_x,node_y,node_z])   # nodule center\n",
    "origin = np.array(itk_img.GetOrigin())      # x,y,z  Origin in world coordinates (mm)\n",
    "spacing = np.array(itk_img.GetSpacing())    # spacing of voxels in world coor. (mm)\n",
    "v_center =np.rint((center-origin)/spacing) \n",
    "\n",
    "print(itk_img.GetOrigin())\n",
    "print(itk_img.GetSpacing())"
   ]
  },
  {
   "cell_type": "code",
   "execution_count": null,
   "metadata": {
    "collapsed": true
   },
   "outputs": [],
   "source": []
  }
 ],
 "metadata": {
  "kernelspec": {
   "display_name": "Python 3",
   "language": "python",
   "name": "python3"
  },
  "language_info": {
   "codemirror_mode": {
    "name": "ipython",
    "version": 3
   },
   "file_extension": ".py",
   "mimetype": "text/x-python",
   "name": "python",
   "nbconvert_exporter": "python",
   "pygments_lexer": "ipython3",
   "version": "3.5.2"
  }
 },
 "nbformat": 4,
 "nbformat_minor": 2
}

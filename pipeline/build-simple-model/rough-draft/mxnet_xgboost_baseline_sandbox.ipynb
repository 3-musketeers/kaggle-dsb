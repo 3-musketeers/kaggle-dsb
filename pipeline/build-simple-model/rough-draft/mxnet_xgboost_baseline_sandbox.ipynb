{
 "cells": [
  {
   "cell_type": "markdown",
   "metadata": {},
   "source": [
    "# [Mxnet Xgboost Baseline](https://www.kaggle.com/drn01z3/data-science-bowl-2017/mxnet-xgboost-baseline-lb-0-57)"
   ]
  },
  {
   "cell_type": "markdown",
   "metadata": {},
   "source": [
    "# Downloading Instructions\n",
    "1. **pydicom** (dicom): type in anaconda command prompt: `pip install pydicom` ([reference](http://pydicom.readthedocs.io/en/latest/getting_started.html))\n",
    "2. **opencv** (cv2): type in anaconda command prompt: `conda install -c https://conda.binstar.org/menpo opencv3` ([reference](https://rivercitylabs.org/up-and-running-with-opencv3-and-python-3-anaconda-edition/))\n",
    "3. **mxnet**:\n",
    "http://mxnet.io/get_started/setup.html#common-installation-problems\n",
    "http://mxnet.io/architecture/index.html\n",
    "http://mxnet.io/get_started/windows_setup.html#next-steps\n",
    "http://mxnet.io/get_started/setup.html#requirements-for-using-gpus\n",
    "https://no2147483647.wordpress.com/2015/12/07/deep-learning-for-hackers-with-mxnet-1/"
   ]
  },
  {
   "cell_type": "markdown",
   "metadata": {},
   "source": [
    "# Dependency Descriptions\n",
    "1. **numpy**: an extension to the Python programming language, adding support for large, multi-dimensional arrays and matrices, along with a large library of high-level mathematical functions to operate on these arrays\n",
    "2. **pydicom** (dicom): pydicom is a pure python package for working with DICOM files such as medical images, reports, and radiotherapy objects\n",
    "3. **glob**: a module that finds all the pathnames matching a specified pattern according to the rules used by the Unix shell (results returned in arbitrary order)\n",
    "4. **matplotlib.pyplot**: a Python 2D plotting library which produces publication quality figures in a variety of hardcopy formats and interactive environments across platforms\n",
    "5. **os**: a module that provides a portable way of using operating system dependent functionality\n",
    "6. **open cv** (cv2): a library of programming functions mainly aimed at real-time computer vision\n",
    "7. **mxnet** (mxnet): a Flexible and Efficient Library for Deep Learning\n",
    "8. **pandas**: providing high-performance, easy-to-use data structures and data analysis tools for the Python programming language\n",
    "9. **scikit-learn** (sklearn) *[cross_validation](http://scikit-learn.org/stable/modules/classes.html#module-sklearn.model_selection)*: simple and efficient tools for data mining and data analysis \n",
    "10. **xgboost**: a library designed and optimized for boosting trees algorithms"
   ]
  },
  {
   "cell_type": "code",
   "execution_count": 5,
   "metadata": {
    "collapsed": false
   },
   "outputs": [
    {
     "ename": "ImportError",
     "evalue": "No module named 'mxnet'",
     "output_type": "error",
     "traceback": [
      "\u001b[0;31m---------------------------------------------------------------------------\u001b[0m",
      "\u001b[0;31mImportError\u001b[0m                               Traceback (most recent call last)",
      "\u001b[0;32m<ipython-input-5-570da5158799>\u001b[0m in \u001b[0;36m<module>\u001b[0;34m()\u001b[0m\n\u001b[1;32m      5\u001b[0m \u001b[1;32mimport\u001b[0m \u001b[0mos\u001b[0m\u001b[1;33m\u001b[0m\u001b[0m\n\u001b[1;32m      6\u001b[0m \u001b[1;32mimport\u001b[0m \u001b[0mcv2\u001b[0m\u001b[1;33m\u001b[0m\u001b[0m\n\u001b[0;32m----> 7\u001b[0;31m \u001b[1;32mimport\u001b[0m \u001b[0mmxnet\u001b[0m \u001b[1;32mas\u001b[0m \u001b[0mmx\u001b[0m\u001b[1;33m\u001b[0m\u001b[0m\n\u001b[0m\u001b[1;32m      8\u001b[0m \u001b[1;32mimport\u001b[0m \u001b[0mpandas\u001b[0m \u001b[1;32mas\u001b[0m \u001b[0mpd\u001b[0m\u001b[1;33m\u001b[0m\u001b[0m\n\u001b[1;32m      9\u001b[0m \u001b[1;32mfrom\u001b[0m \u001b[0msklearn\u001b[0m \u001b[1;32mimport\u001b[0m \u001b[0mcross_validation\u001b[0m\u001b[1;33m\u001b[0m\u001b[0m\n",
      "\u001b[0;31mImportError\u001b[0m: No module named 'mxnet'"
     ]
    }
   ],
   "source": [
    "import numpy as np\n",
    "import dicom\n",
    "import glob\n",
    "from matplotlib import pyplot as plt\n",
    "import os\n",
    "import cv2\n",
    "import mxnet as mx\n",
    "import pandas as pd\n",
    "from sklearn import cross_validation\n",
    "import xgboost as xgb"
   ]
  },
  {
   "cell_type": "code",
   "execution_count": null,
   "metadata": {
    "collapsed": true
   },
   "outputs": [],
   "source": [
    "def get_extractor():\n",
    "    model = mx.model.FeedForward.load('model/resnet-50', 0, ctx=mx.cpu(), numpy_batch_size=1)\n",
    "    fea_symbol = model.symbol.get_internals()[\"flatten0_output\"]\n",
    "    feature_extractor = mx.model.FeedForward(ctx=mx.cpu(), symbol=fea_symbol, numpy_batch_size=64,\n",
    "                                             arg_params=model.arg_params, aux_params=model.aux_params,\n",
    "                                             allow_extra_params=True)\n",
    "\n",
    "    return feature_extractor\n",
    "\n",
    "\n",
    "def get_3d_data(path):\n",
    "    slices = [dicom.read_file(path + '/' + s) for s in os.listdir(path)]\n",
    "    slices.sort(key=lambda x: int(x.InstanceNumber))\n",
    "    return np.stack([s.pixel_array for s in slices])\n",
    "\n",
    "\n",
    "def get_data_id(path):\n",
    "    sample_image = get_3d_data(path)\n",
    "    sample_image[sample_image == -2000] = 0\n",
    "    # f, plots = plt.subplots(4, 5, sharex='col', sharey='row', figsize=(10, 8))\n",
    "\n",
    "    batch = []\n",
    "    cnt = 0\n",
    "    dx = 40\n",
    "    ds = 512\n",
    "    for i in range(0, sample_image.shape[0] - 3, 3):\n",
    "        tmp = []\n",
    "        for j in range(3):\n",
    "            img = sample_image[i + j]\n",
    "            img = 255.0 / np.amax(img) * img\n",
    "            img = cv2.equalizeHist(img.astype(np.uint8))\n",
    "            img = img[dx: ds - dx, dx: ds - dx]\n",
    "            img = cv2.resize(img, (224, 224))\n",
    "            tmp.append(img)\n",
    "\n",
    "        tmp = np.array(tmp)\n",
    "        batch.append(np.array(tmp))\n",
    "\n",
    "        # if cnt < 20:\n",
    "        #     plots[cnt // 5, cnt % 5].axis('off')\n",
    "        #     plots[cnt // 5, cnt % 5].imshow(np.swapaxes(tmp, 0, 2))\n",
    "        # cnt += 1\n",
    "\n",
    "    # plt.show()\n",
    "    batch = np.array(batch)\n",
    "    return batch\n",
    "\n",
    "\n",
    "def calc_features():\n",
    "    net = get_extractor()\n",
    "    for folder in glob.glob('stage1/*'):\n",
    "        batch = get_data_id(folder)\n",
    "        feats = net.predict(batch)\n",
    "        print(feats.shape)\n",
    "        np.save(folder, feats)\n",
    "\n",
    "\n",
    "def train_xgboost():\n",
    "    df = pd.read_csv('data/stage1_labels.csv')\n",
    "    print(df.head())\n",
    "\n",
    "    x = np.array([np.mean(np.load('stage1/%s.npy' % str(id)), axis=0) for id in df['id'].tolist()])\n",
    "    y = df['cancer'].as_matrix()\n",
    "\n",
    "    trn_x, val_x, trn_y, val_y = cross_validation.train_test_split(x, y, random_state=42, stratify=y,\n",
    "                                                                   test_size=0.20)\n",
    "\n",
    "    clf = xgb.XGBRegressor(max_depth=10,\n",
    "                           n_estimators=1500,\n",
    "                           min_child_weight=9,\n",
    "                           learning_rate=0.05,\n",
    "                           nthread=8,\n",
    "                           subsample=0.80,\n",
    "                           colsample_bytree=0.80,\n",
    "                           seed=4242)\n",
    "\n",
    "    clf.fit(trn_x, trn_y, eval_set=[(val_x, val_y)], verbose=True, eval_metric='logloss', early_stopping_rounds=50)\n",
    "    return clf\n",
    "\n",
    "\n",
    "def make_submit():\n",
    "    clf = train_xgboost()\n",
    "\n",
    "    df = pd.read_csv('data/stage1_sample_submission.csv')\n",
    "\n",
    "    x = np.array([np.mean(np.load('stage1/%s.npy' % str(id)), axis=0) for id in df['id'].tolist()])\n",
    "\n",
    "    pred = clf.predict(x)\n",
    "\n",
    "    df['cancer'] = pred\n",
    "    df.to_csv('subm1.csv', index=False)\n",
    "    print(df.head())\n",
    "\n",
    "\n",
    "if __name__ == '__main__':\n",
    "    calc_features()\n",
    "    make_submit()\n"
   ]
  }
 ],
 "metadata": {
  "anaconda-cloud": {},
  "kernelspec": {
   "display_name": "Python [default]",
   "language": "python",
   "name": "python3"
  },
  "language_info": {
   "codemirror_mode": {
    "name": "ipython",
    "version": 3
   },
   "file_extension": ".py",
   "mimetype": "text/x-python",
   "name": "python",
   "nbconvert_exporter": "python",
   "pygments_lexer": "ipython3",
   "version": "3.5.2"
  }
 },
 "nbformat": 4,
 "nbformat_minor": 1
}

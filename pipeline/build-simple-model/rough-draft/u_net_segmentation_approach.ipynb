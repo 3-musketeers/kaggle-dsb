{
 "cells": [
  {
   "cell_type": "markdown",
   "metadata": {
    "collapsed": true
   },
   "source": [
    "# [U-Net Segmentation Approach to Cancer Diagnosis](https://www.kaggle.com/c/data-science-bowl-2017#tutorial)\n",
    "*approach to predicting whether a CT scan is of a patient who either has or will develop cancer within the next 12 months or not*\n",
    "\n",
    "General Approach:\n",
    "1. train a network to segment out potentially cancerous nodules\n",
    "2. use the characteristics of that segmentation to make predictions about the diagnosis of the scanned patient within a 12 month time frame\n"
   ]
  },
  {
   "cell_type": "markdown",
   "metadata": {},
   "source": [
    "# Downloading Instructions\n",
    "1. **pydicom** (dicom): type in anaconda command prompt: `pip install pydicom` ([reference](http://pydicom.readthedocs.io/en/latest/getting_started.html))\n",
    "2. **SimpleITK**: type in anaconda command prompt: `conda install -c https://conda.anaconda.org/simpleitk SimpleITK` ([reference](https://itk.org/Wiki/SimpleITK/GettingStarted))\n",
    "3. **xgboost**: type in anaconda command prompt: `pip install xgboost` ([reference](http://machinelearningmastery.com/gentle-introduction-xgboost-applied-machine-learning/), [long version reference](https://www.ibm.com/developerworks/community/blogs/jfp/entry/Installing_XGBoost_For_Anaconda_on_Windows?lang=en))\n",
    "\n",
    "## Installing Keras, Tensorflow, CuDNN, Cuda Tool Kit\n",
    "*how to install keras, and the gpu supported version of tensorflow, as well as the entire GPU computing library*\n",
    "\n",
    "**Follow the instructions [here](https://github.com/3-musketeers/kaggle-dsb/blob/master/pipeline/build-simple-model/rough-draft/model_dependency_setup.md)**\n",
    "\n",
    "## Downloading Data\n",
    "**Follow the instructions [here](https://github.com/3-musketeers/kaggle-dsb/blob/master/pipeline/build-simple-model/rough-draft/model_data_setup.md)**"
   ]
  },
  {
   "cell_type": "markdown",
   "metadata": {},
   "source": [
    "# Dependency Descriptions\n",
    "1. **numpy**: an extension to the Python programming language, adding support for large, multi-dimensional arrays and matrices, along with a large library of high-level mathematical functions to operate on these arrays\n",
    "2. **scikit-image** (skimage): collection of algorithms for image processing\n",
    "3. **scikit-learn**: simple and efficient tools for data mining and data analysis\n",
    "4. **keras** (tensorflow backend): high-level neural networks library, written in Python (runs on top of TensorFlow)\n",
    "5. **matplotlib**: a Python 2D plotting library which produces publication quality figures in a variety of hardcopy formats and interactive environments across platforms\n",
    "6. **pydicom** (dicom): pydicom is a pure python package for working with DICOM files such as medical images, reports, and radiotherapy objects\n",
    "7. **SimpleITK**: an open-source, cross-platform system that provides developers with an extensive suite of software tools for image analysis \n",
    "8. **pandas**: providing high-performance, easy-to-use data structures and data analysis tools for the Python programming language\n",
    "9. **glob**: a module that finds all the pathnames matching a specified pattern according to the rules used by the Unix shell (results returned in arbitrary order)\n",
    "10. **csv**: a module that implements classes to read and write tabular data in CSV format\n",
    "11. **os**: a module that provides a portable way of using operating system dependent functionality\n",
    "12. **xgboost**: a library designed and optimized for boosting trees algorithms\n",
    "13. **pickle**: standard mechanism for object serialization"
   ]
  },
  {
   "cell_type": "markdown",
   "metadata": {},
   "source": [
    "## Details:\n",
    "1. U-Net style convolutional network: to identify regions with nodules (U-net was designed for segmenting neuronal structures)\n",
    "2. appearance on nodules within the CT scan: indicate the possibility of cancer\n",
    "3. Lung Nodule Analysis 2016 (LUNA2016):\n",
    "   1. provides training examples with marked nodules in order train the U Net to find these nodules (CT images with annotated nodule locations)\n",
    "   2. use the LUNA data set to generate an appropriate training set for our U-Net\n",
    "   3. use these examples to train our supervised segmenter"
   ]
  },
  {
   "cell_type": "code",
   "execution_count": 1,
   "metadata": {
    "collapsed": true
   },
   "outputs": [],
   "source": [
    "import tensorflow as tf"
   ]
  },
  {
   "cell_type": "code",
   "execution_count": 1,
   "metadata": {
    "collapsed": false
   },
   "outputs": [
    {
     "name": "stderr",
     "output_type": "stream",
     "text": [
      "Using TensorFlow backend.\n"
     ]
    }
   ],
   "source": [
    "import keras"
   ]
  },
  {
   "cell_type": "code",
   "execution_count": null,
   "metadata": {
    "collapsed": true
   },
   "outputs": [],
   "source": []
  }
 ],
 "metadata": {
  "anaconda-cloud": {},
  "kernelspec": {
   "display_name": "Python 3",
   "language": "python",
   "name": "python3"
  },
  "language_info": {
   "codemirror_mode": {
    "name": "ipython",
    "version": 3
   },
   "file_extension": ".py",
   "mimetype": "text/x-python",
   "name": "python",
   "nbconvert_exporter": "python",
   "pygments_lexer": "ipython3",
   "version": "3.5.2"
  }
 },
 "nbformat": 4,
 "nbformat_minor": 1
}

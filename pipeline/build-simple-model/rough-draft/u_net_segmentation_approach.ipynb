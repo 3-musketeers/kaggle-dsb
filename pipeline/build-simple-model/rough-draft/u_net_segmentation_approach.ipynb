{
 "cells": [
  {
   "cell_type": "markdown",
   "metadata": {
    "collapsed": true
   },
   "source": [
    "# U-Net Segmentation Approach to Cancer Diagnosis\n",
    "*approach to predicting whether a CT scan is of a patient who either has or will develop cancer within the next 12 months or not*\n",
    "\n",
    "General Approach:\n",
    "1. train a network to segment out potentially cancerous nodules\n",
    "2. use the characteristics of that segmentation to make predictions about the diagnosis of the scanned patient within a 12 month time frame\n"
   ]
  },
  {
   "cell_type": "markdown",
   "metadata": {},
   "source": [
    "# Downloading Instructions\n",
    "1. **pydicom** (dicom): type in anaconda command prompt: `pip install pydicom` ([reference](http://pydicom.readthedocs.io/en/latest/getting_started.html))"
   ]
  },
  {
   "cell_type": "markdown",
   "metadata": {},
   "source": [
    "# Dependency Descriptions\n",
    "1. numpy\n",
    "2. scikit-image\n",
    "3. scikit-learn\n",
    "4. keras (tensorflow backend)\n",
    "5. matplotlib\n",
    "6. pydicom\n",
    "7. SimpleITK"
   ]
  },
  {
   "cell_type": "markdown",
   "metadata": {},
   "source": [
    "## Details:\n",
    "1. U-Net style convolutional network: to identify regions with nodules (U-net was designed for segmenting neuronal structures)\n",
    "2. appearance on nodules within the CT scan: indicate the possibility of cancer\n",
    "3. Lung Nodule Analysis 2016 (LUNA2016):\n",
    "   1. provides training examples with marked nodules in order train the U Net to find these nodules (CT images with annotated nodule locations)\n",
    "   2. use the LUNA data set to generate an appropriate training set for our U-Net\n",
    "   3. use these examples to train our supervised segmenter"
   ]
  },
  {
   "cell_type": "code",
   "execution_count": null,
   "metadata": {
    "collapsed": true
   },
   "outputs": [],
   "source": []
  }
 ],
 "metadata": {
  "anaconda-cloud": {},
  "kernelspec": {
   "display_name": "Python [default]",
   "language": "python",
   "name": "python3"
  },
  "language_info": {
   "codemirror_mode": {
    "name": "ipython",
    "version": 3
   },
   "file_extension": ".py",
   "mimetype": "text/x-python",
   "name": "python",
   "nbconvert_exporter": "python",
   "pygments_lexer": "ipython3",
   "version": "3.5.2"
  }
 },
 "nbformat": 4,
 "nbformat_minor": 1
}

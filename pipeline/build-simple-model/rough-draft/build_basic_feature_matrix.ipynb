{
 "cells": [
  {
   "cell_type": "code",
   "execution_count": 2,
   "metadata": {
    "collapsed": false
   },
   "outputs": [],
   "source": [
    "import dicom"
   ]
  },
  {
   "cell_type": "code",
   "execution_count": 8,
   "metadata": {
    "collapsed": false
   },
   "outputs": [],
   "source": [
    "asdf = dicom.read_file('../../../../kaggle-dsb-data/sample_images/00cba091fa4ad62cc3200a657aeb957e/0a291d1b12b86213d813e3796f14b329.dcm')"
   ]
  },
  {
   "cell_type": "code",
   "execution_count": 9,
   "metadata": {
    "collapsed": false
   },
   "outputs": [
    {
     "data": {
      "text/plain": [
       "(0008, 0005) Specific Character Set              CS: 'ISO_IR 100'\n",
       "(0008, 0016) SOP Class UID                       UI: CT Image Storage\n",
       "(0008, 0018) SOP Instance UID                    UI: 1.2.840.113654.2.55.1582830837145501044562724636106343359\n",
       "(0008, 0060) Modality                            CS: 'CT'\n",
       "(0008, 103e) Series Description                  LO: 'Axial'\n",
       "(0010, 0010) Patient's Name                      PN: '00cba091fa4ad62cc3200a657aeb957e'\n",
       "(0010, 0020) Patient ID                          LO: '00cba091fa4ad62cc3200a657aeb957e'\n",
       "(0010, 0030) Patient's Birth Date                DA: '19000101'\n",
       "(0018, 0060) KVP                                 DS: ''\n",
       "(0020, 000d) Study Instance UID                  UI: 2.25.86208730140539712382771890501772734277950692397709007305473\n",
       "(0020, 000e) Series Instance UID                 UI: 2.25.11575877329635228925808596800269974740893519451784626046614\n",
       "(0020, 0011) Series Number                       IS: '3'\n",
       "(0020, 0012) Acquisition Number                  IS: '1'\n",
       "(0020, 0013) Instance Number                     IS: '88'\n",
       "(0020, 0020) Patient Orientation                 CS: ''\n",
       "(0020, 0032) Image Position (Patient)            DS: ['-145.500000', '-158.199997', '-241.199997']\n",
       "(0020, 0037) Image Orientation (Patient)         DS: ['1.000000', '0.000000', '0.000000', '0.000000', '1.000000', '0.000000']\n",
       "(0020, 0052) Frame of Reference UID              UI: 2.25.83033509634441686385652073462983801840121916678417719669650\n",
       "(0020, 1040) Position Reference Indicator        LO: 'SN'\n",
       "(0020, 1041) Slice Location                      DS: '-241.199997'\n",
       "(0028, 0002) Samples per Pixel                   US: 1\n",
       "(0028, 0004) Photometric Interpretation          CS: 'MONOCHROME2'\n",
       "(0028, 0010) Rows                                US: 512\n",
       "(0028, 0011) Columns                             US: 512\n",
       "(0028, 0030) Pixel Spacing                       DS: ['0.597656', '0.597656']\n",
       "(0028, 0100) Bits Allocated                      US: 16\n",
       "(0028, 0101) Bits Stored                         US: 16\n",
       "(0028, 0102) High Bit                            US: 15\n",
       "(0028, 0103) Pixel Representation                US: 1\n",
       "(0028, 0120) Pixel Padding Value                 US: 63536\n",
       "(0028, 1050) Window Center                       DS: '40'\n",
       "(0028, 1051) Window Width                        DS: '400'\n",
       "(0028, 1052) Rescale Intercept                   DS: '-1024'\n",
       "(0028, 1053) Rescale Slope                       DS: '1'\n",
       "(7fe0, 0010) Pixel Data                          OW: Array of 524288 bytes"
      ]
     },
     "execution_count": 9,
     "metadata": {},
     "output_type": "execute_result"
    }
   ],
   "source": [
    "asdf"
   ]
  },
  {
   "cell_type": "code",
   "execution_count": null,
   "metadata": {
    "collapsed": true
   },
   "outputs": [],
   "source": []
  }
 ],
 "metadata": {
  "anaconda-cloud": {},
  "kernelspec": {
   "display_name": "Python [default]",
   "language": "python",
   "name": "python3"
  },
  "language_info": {
   "codemirror_mode": {
    "name": "ipython",
    "version": 3
   },
   "file_extension": ".py",
   "mimetype": "text/x-python",
   "name": "python",
   "nbconvert_exporter": "python",
   "pygments_lexer": "ipython3",
   "version": "3.5.2"
  }
 },
 "nbformat": 4,
 "nbformat_minor": 1
}
